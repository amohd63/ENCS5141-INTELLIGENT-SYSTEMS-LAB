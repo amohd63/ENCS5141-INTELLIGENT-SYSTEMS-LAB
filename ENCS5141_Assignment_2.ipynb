{
  "cells": [
    {
      "cell_type": "markdown",
      "metadata": {
        "id": "view-in-github",
        "colab_type": "text"
      },
      "source": [
        "<a href=\"https://colab.research.google.com/github/amohd63/ENCS5141-INTELLIGENT-SYSTEMS-LAB/blob/main/ENCS5141_Assignment_2.ipynb\" target=\"_parent\"><img src=\"https://colab.research.google.com/assets/colab-badge.svg\" alt=\"Open In Colab\"/></a>"
      ]
    },
    {
      "cell_type": "markdown",
      "metadata": {
        "id": "8UwCijEMqF5n"
      },
      "source": [
        "# Imbalanced classes"
      ]
    },
    {
      "cell_type": "markdown",
      "source": [
        "In this section, we are comparing between Random forest and XGboost when handling imbalanced dataset."
      ],
      "metadata": {
        "id": "JcFAXgmswxAu"
      }
    },
    {
      "cell_type": "markdown",
      "source": [
        "**Dataset**: [Breast Cancer Wisconsin (Diagnostic)](https://archive.ics.uci.edu/dataset/17/breast+cancer+wisconsin+diagnostic)\n",
        "\n",
        "Scikit learn URL: https://scikit-learn.org/stable/modules/generated/sklearn.datasets.load_breast_cancer.html"
      ],
      "metadata": {
        "id": "MaetEJvVwxmO"
      }
    },
    {
      "cell_type": "markdown",
      "source": [
        "**Evaluation metric**: F1 score."
      ],
      "metadata": {
        "id": "2T6uJBNxyZN2"
      }
    },
    {
      "cell_type": "code",
      "source": [
        "from sklearn.datasets import load_breast_cancer\n",
        "X, y = load_breast_cancer(return_X_y=True)"
      ],
      "metadata": {
        "id": "BRENRozsnc0m"
      },
      "execution_count": null,
      "outputs": []
    },
    {
      "cell_type": "code",
      "source": [
        "import seaborn as sns\n",
        "import matplotlib.pyplot as plt\n",
        "\n",
        "sns.countplot(x=y)\n",
        "\n",
        "plt.show()"
      ],
      "metadata": {
        "colab": {
          "base_uri": "https://localhost:8080/",
          "height": 430
        },
        "id": "0Io7CXhwwanD",
        "outputId": "2bf8b6be-86fb-4c39-c1eb-c41e763d59dc"
      },
      "execution_count": null,
      "outputs": [
        {
          "output_type": "display_data",
          "data": {
            "text/plain": [
              "<Figure size 640x480 with 1 Axes>"
            ],
            "image/png": "[encoded data removed]"
          },
          "metadata": {}
        }
      ]
    },
    {
      "cell_type": "code",
      "source": [
        "from numpy import unique\n",
        "\n",
        "classes = unique(y)\n",
        "breakdown = ''\n",
        "for c in classes:\n",
        " total = len(y[y == c])\n",
        " ratio = (total / float(len(y))) * 100\n",
        " print(' - Class %s: %d (%.5f%%)' % (str(c), total, ratio))"
      ],
      "metadata": {
        "colab": {
          "base_uri": "https://localhost:8080/"
        },
        "id": "1UmynVZygHjz",
        "outputId": "80ca6d9a-a2c9-4862-a119-402c1a25d72b"
      },
      "execution_count": null,
      "outputs": [
        {
          "output_type": "stream",
          "name": "stdout",
          "text": [
            " - Class 0: 212 (37.25835%)\n",
            " - Class 1: 357 (62.74165%)\n"
          ]
        }
      ]
    },
    {
      "cell_type": "markdown",
      "source": [
        "We clearly see the dataset is imbalanced, the percentage of imbalance between two classes should be less than 40%."
      ],
      "metadata": {
        "id": "LsjSYAsPxupq"
      }
    },
    {
      "cell_type": "markdown",
      "metadata": {
        "id": "PNeQoslj6TqX"
      },
      "source": [
        "## Random forest"
      ]
    },
    {
      "cell_type": "markdown",
      "source": [
        "Firstly, we train the Random forest classifier with default values of paramters."
      ],
      "metadata": {
        "id": "Al4w7IocySCc"
      }
    },
    {
      "cell_type": "code",
      "execution_count": null,
      "metadata": {
        "id": "qpVYN3oUg8PL"
      },
      "outputs": [],
      "source": [
        "from sklearn.model_selection import train_test_split\n",
        "x_train, x_test, y_train, y_test= train_test_split(X, y, test_size= 0.25, random_state=0)"
      ]
    },
    {
      "cell_type": "code",
      "execution_count": null,
      "metadata": {
        "colab": {
          "base_uri": "https://localhost:8080/"
        },
        "id": "VjED4EU3hAdq",
        "outputId": "b9c38ca6-8b47-4fb0-c6df-af018dcd7b31"
      },
      "outputs": [
        {
          "output_type": "stream",
          "name": "stdout",
          "text": [
            "              precision    recall  f1-score   support\n",
            "\n",
            "           0       0.98      0.95      0.96        55\n",
            "           1       0.97      0.99      0.98        88\n",
            "\n",
            "    accuracy                           0.97       143\n",
            "   macro avg       0.97      0.97      0.97       143\n",
            "weighted avg       0.97      0.97      0.97       143\n",
            "\n",
            "F1 score: 0.9721\n",
            "Random Forest Training time: 0.32067108154296875 seconds\n",
            "Random Forest Memory usage: 113.32547200000019 MB\n"
          ]
        }
      ],
      "source": [
        "from sklearn.ensemble import RandomForestClassifier\n",
        "from sklearn.metrics import confusion_matrix\n",
        "from sklearn.metrics import classification_report\n",
        "from sklearn.metrics import f1_score\n",
        "import psutil\n",
        "import time\n",
        "\n",
        "classifier= RandomForestClassifier()\n",
        "\n",
        "memory_usage_b = psutil.virtual_memory()[3]/1000000000\n",
        "start_time = time.time()\n",
        "\n",
        "classifier.fit(x_train, y_train)\n",
        "\n",
        "end_time = time.time()\n",
        "memory_usage_a = psutil.virtual_memory()[3]/1000000000\n",
        "\n",
        "training_time = end_time - start_time\n",
        "memory_usage = (memory_usage_a - memory_usage_b)*1000\n",
        "\n",
        "y_pred= classifier.predict(x_test)\n",
        "print(classification_report(y_pred, y_test))\n",
        "\n",
        "fs = f1_score(y_pred, y_test)\n",
        "\n",
        "print(f\"F1 score: {fs:.4f}\")\n",
        "print(f\"Random Forest Training time: {training_time} seconds\")\n",
        "print(f\"Random Forest Memory usage: {memory_usage} MB\")"
      ]
    },
    {
      "cell_type": "markdown",
      "source": [
        "Confusion matrix"
      ],
      "metadata": {
        "id": "eI6sMji9wkxh"
      }
    },
    {
      "cell_type": "code",
      "source": [
        "from sklearn.metrics import confusion_matrix\n",
        "import seaborn as sns\n",
        "import matplotlib.pyplot as plt\n",
        "\n",
        "c_m = confusion_matrix(y_pred, y_test)\n",
        "sns.heatmap(c_m, annot=True, fmt='g')\n",
        "plt.ylabel('Prediction',fontsize=13)\n",
        "plt.xlabel('Actual',fontsize=13)\n",
        "plt.title('Confusion Matrix',fontsize=17)\n",
        "plt.show()"
      ],
      "metadata": {
        "colab": {
          "base_uri": "https://localhost:8080/",
          "height": 481
        },
        "id": "KBonDPN3w6SS",
        "outputId": "ffa71a64-ae7d-4281-c90f-d8e8016d858a"
      },
      "execution_count": null,
      "outputs": [
        {
          "output_type": "display_data",
          "data": {
            "text/plain": [
              "<Figure size 640x480 with 2 Axes>"
            ],
            "image/png": "[encoded data removed]"
          },
          "metadata": {}
        }
      ]
    },
    {
      "cell_type": "markdown",
      "source": [
        "Hyperparamter tuning of random forest"
      ],
      "metadata": {
        "id": "R7NLuRLJ0K7K"
      }
    },
    {
      "cell_type": "code",
      "execution_count": null,
      "metadata": {
        "colab": {
          "base_uri": "https://localhost:8080/"
        },
        "id": "ehDsKQBzacW6",
        "outputId": "5c78cde3-56b8-4751-84bb-5893f55ec21a"
      },
      "outputs": [
        {
          "output_type": "stream",
          "name": "stdout",
          "text": [
            "RandomForestClassifier(max_features='log2', n_estimators=50)\n"
          ]
        }
      ],
      "source": [
        "from sklearn.model_selection import GridSearchCV, RandomizedSearchCV\n",
        "\n",
        "param_grid = {\n",
        "    'n_estimators': [50, 100, 150],\n",
        "    'max_features': ['sqrt', 'log2', None],\n",
        "    'max_depth': [5, 9, None],\n",
        "    'max_leaf_nodes': [3, 7, None],\n",
        "}\n",
        "\n",
        "grid_search = GridSearchCV(RandomForestClassifier(),\n",
        "                           param_grid=param_grid)\n",
        "\n",
        "grid_search.fit(x_train, y_train)\n",
        "print(grid_search.best_estimator_)"
      ]
    },
    {
      "cell_type": "markdown",
      "source": [
        "Retrain the random forst model and obtain the results."
      ],
      "metadata": {
        "id": "QLVM-AXr0Oyv"
      }
    },
    {
      "cell_type": "code",
      "source": [
        "classifier= grid_search.best_estimator_\n",
        "\n",
        "memory_usage_b = psutil.virtual_memory()[3]/1000000000\n",
        "start_time = time.time()\n",
        "\n",
        "classifier.fit(x_train, y_train)\n",
        "\n",
        "end_time = time.time()\n",
        "memory_usage_a = psutil.virtual_memory()[3]/1000000000\n",
        "\n",
        "training_time = end_time - start_time\n",
        "memory_usage = (memory_usage_a - memory_usage_b)*1000\n",
        "\n",
        "y_pred= classifier.predict(x_test)\n",
        "print(classification_report(y_pred, y_test))\n",
        "\n",
        "fs = f1_score(y_pred, y_test)\n",
        "\n",
        "print(f\"F1 score: {fs:.4f}\")\n",
        "print(f\"Random Forest Training time: {training_time} seconds\")\n",
        "print(f\"Random Forest Memory usage: {memory_usage} MB\")"
      ],
      "metadata": {
        "colab": {
          "base_uri": "https://localhost:8080/"
        },
        "id": "gZDmFoQIaaJL",
        "outputId": "536694c2-ea33-4a1b-816f-571bff2fb73e"
      },
      "execution_count": null,
      "outputs": [
        {
          "output_type": "stream",
          "name": "stdout",
          "text": [
            "              precision    recall  f1-score   support\n",
            "\n",
            "           0       0.98      0.95      0.96        55\n",
            "           1       0.97      0.99      0.98        88\n",
            "\n",
            "    accuracy                           0.97       143\n",
            "   macro avg       0.97      0.97      0.97       143\n",
            "weighted avg       0.97      0.97      0.97       143\n",
            "\n",
            "F1 score: 0.9775\n",
            "Random Forest Training time: 0.5106581687927246 seconds\n",
            "Random Forest Memory usage: 145.3854720000002 MB\n"
          ]
        }
      ]
    },
    {
      "cell_type": "code",
      "source": [
        "c_m = confusion_matrix(y_pred, y_test)\n",
        "sns.heatmap(c_m, annot=True, fmt='g')\n",
        "plt.ylabel('Prediction',fontsize=13)\n",
        "plt.xlabel('Actual',fontsize=13)\n",
        "plt.title('Confusion Matrix',fontsize=17)\n",
        "plt.show()"
      ],
      "metadata": {
        "colab": {
          "base_uri": "https://localhost:8080/",
          "height": 481
        },
        "id": "q7pXQL36xgIl",
        "outputId": "ec595923-0370-45a2-dfbc-b96b771413be"
      },
      "execution_count": null,
      "outputs": [
        {
          "output_type": "display_data",
          "data": {
            "text/plain": [
              "<Figure size 640x480 with 2 Axes>"
            ],
            "image/png": "[encoded data removed]"
          },
          "metadata": {}
        }
      ]
    },
    {
      "cell_type": "markdown",
      "metadata": {
        "id": "FX2AmtAS6z4P"
      },
      "source": [
        "## XGBoost"
      ]
    },
    {
      "cell_type": "markdown",
      "source": [
        "Train the XGBoost."
      ],
      "metadata": {
        "id": "odrzrJ0DwspI"
      }
    },
    {
      "cell_type": "code",
      "source": [
        "from xgboost import XGBClassifier\n",
        "from sklearn.metrics import classification_report\n",
        "from sklearn.metrics import f1_score\n",
        "import psutil\n",
        "import time\n",
        "\n",
        "classifier= XGBClassifier()\n",
        "\n",
        "memory_usage_b = psutil.virtual_memory()[3]/1000000000\n",
        "start_time = time.time()\n",
        "\n",
        "classifier.fit(x_train, y_train)\n",
        "\n",
        "end_time = time.time()\n",
        "memory_usage_a = psutil.virtual_memory()[3]/1000000000\n",
        "\n",
        "training_time = end_time - start_time\n",
        "memory_usage = (memory_usage_a - memory_usage_b)*1000\n",
        "\n",
        "y_pred= classifier.predict(x_test)\n",
        "print(classification_report(y_pred, y_test))\n",
        "\n",
        "fs = f1_score(y_pred, y_test)\n",
        "\n",
        "print(f\"F1 score: {fs:.4f}\")\n",
        "print(f\"XGBoost Training time: {training_time} seconds\")\n",
        "print(f\"XGBoost Memory usage: {memory_usage} MB\")"
      ],
      "metadata": {
        "colab": {
          "base_uri": "https://localhost:8080/"
        },
        "id": "PdJbt2CSxw83",
        "outputId": "cc498bfa-a0e2-4c0c-abaa-b729e23c0b21"
      },
      "execution_count": null,
      "outputs": [
        {
          "output_type": "stream",
          "name": "stdout",
          "text": [
            "              precision    recall  f1-score   support\n",
            "\n",
            "           0       0.98      0.95      0.96        55\n",
            "           1       0.97      0.99      0.98        88\n",
            "\n",
            "    accuracy                           0.97       143\n",
            "   macro avg       0.97      0.97      0.97       143\n",
            "weighted avg       0.97      0.97      0.97       143\n",
            "\n",
            "F1 score: 0.9775\n",
            "XGBoost Training time: 0.4304213789914623 seconds\n",
            "XGBoost Memory usage: 85.93123879854123 MB\n"
          ]
        }
      ]
    },
    {
      "cell_type": "markdown",
      "source": [
        "Confusion matrix"
      ],
      "metadata": {
        "id": "XGyETBebwwb_"
      }
    },
    {
      "cell_type": "code",
      "source": [
        "c_m = confusion_matrix(y_pred, y_test)\n",
        "sns.heatmap(c_m, annot=True, fmt='g')\n",
        "plt.ylabel('Prediction',fontsize=13)\n",
        "plt.xlabel('Actual',fontsize=13)\n",
        "plt.title('Confusion Matrix',fontsize=17)\n",
        "plt.show()"
      ],
      "metadata": {
        "colab": {
          "base_uri": "https://localhost:8080/",
          "height": 481
        },
        "id": "7HPKbf1gyLSP",
        "outputId": "eaa8effd-3268-48d4-c93c-5e57733b4241"
      },
      "execution_count": null,
      "outputs": [
        {
          "output_type": "display_data",
          "data": {
            "text/plain": [
              "<Figure size 640x480 with 2 Axes>"
            ],
            "image/png": "[encoded data removed]"
          },
          "metadata": {}
        }
      ]
    },
    {
      "cell_type": "markdown",
      "source": [
        "Hyperparameter tuning"
      ],
      "metadata": {
        "id": "oeA2YHUowyD3"
      }
    },
    {
      "cell_type": "code",
      "execution_count": null,
      "metadata": {
        "colab": {
          "base_uri": "https://localhost:8080/"
        },
        "id": "205-YWZYrTJR",
        "outputId": "8d774405-3d61-4946-cfff-6ea9d2b35dc9"
      },
      "outputs": [
        {
          "output_type": "stream",
          "name": "stdout",
          "text": [
            "XGBClassifier(base_score=None, booster=None, callbacks=None,\n",
            "              colsample_bylevel=None, colsample_bynode=None,\n",
            "              colsample_bytree=0.3, device=None, early_stopping_rounds=None,\n",
            "              enable_categorical=False, eval_metric=None, feature_types=None,\n",
            "              gamma=None, grow_policy=None, importance_type=None,\n",
            "              interaction_constraints=None, learning_rate=0.5, max_bin=None,\n",
            "              max_cat_threshold=None, max_cat_to_onehot=None,\n",
            "              max_delta_step=None, max_depth=5, max_leaves=None,\n",
            "              min_child_weight=None, missing=nan, monotone_constraints=None,\n",
            "              multi_strategy=None, n_estimators=100, n_jobs=None,\n",
            "              num_parallel_tree=None, random_state=None, ...)\n"
          ]
        }
      ],
      "source": [
        "from sklearn.model_selection import GridSearchCV, RandomizedSearchCV\n",
        "from xgboost import XGBClassifier\n",
        "\n",
        "params = {\n",
        "    \"colsample_bytree\": [0.3, None],\n",
        "    \"gamma\": [0.5, None],\n",
        "    \"learning_rate\": [0.5, None],\n",
        "    \"max_depth\": [5, None],\n",
        "    \"n_estimators\": [25, 50, 100, None],\n",
        "    \"subsample\": [0.5, None]\n",
        "}\n",
        "\n",
        "grid_search = GridSearchCV(XGBClassifier(),\n",
        "                           param_grid=params,\n",
        "                           n_jobs=10)\n",
        "\n",
        "grid_search.fit(x_train, y_train)\n",
        "print(grid_search.best_estimator_)"
      ]
    },
    {
      "cell_type": "markdown",
      "source": [
        "Retrain the model"
      ],
      "metadata": {
        "id": "QY0aMBA4w0mK"
      }
    },
    {
      "cell_type": "code",
      "source": [
        "from xgboost import XGBClassifier\n",
        "from sklearn.metrics import classification_report\n",
        "from sklearn.metrics import f1_score\n",
        "import psutil\n",
        "import time\n",
        "\n",
        "classifier= grid_search.best_estimator_\n",
        "\n",
        "memory_usage_b = psutil.virtual_memory()[3]/1000000000\n",
        "start_time = time.time()\n",
        "\n",
        "classifier.fit(x_train, y_train)\n",
        "\n",
        "end_time = time.time()\n",
        "memory_usage_a = psutil.virtual_memory()[3]/1000000000\n",
        "\n",
        "training_time = end_time - start_time\n",
        "memory_usage = (memory_usage_a - memory_usage_b)*1000\n",
        "\n",
        "y_pred= classifier.predict(x_test)\n",
        "print(classification_report(y_pred, y_test))\n",
        "\n",
        "fs = f1_score(y_pred, y_test)\n",
        "\n",
        "print(f\"F1 score: {fs:.4f}\")\n",
        "print(f\"XGBoost Training time: {training_time} seconds\")\n",
        "print(f\"XGBoost Memory usage: {memory_usage} MB\")"
      ],
      "metadata": {
        "colab": {
          "base_uri": "https://localhost:8080/"
        },
        "id": "gbzvU-dIylF-",
        "outputId": "ffa72fc8-bf71-44c0-a933-6a2142004706"
      },
      "execution_count": null,
      "outputs": [
        {
          "output_type": "stream",
          "name": "stdout",
          "text": [
            "              precision    recall  f1-score   support\n",
            "\n",
            "           0       1.00      0.95      0.97        56\n",
            "           1       0.97      1.00      0.98        87\n",
            "\n",
            "    accuracy                           0.98       143\n",
            "   macro avg       0.98      0.97      0.98       143\n",
            "weighted avg       0.98      0.98      0.98       143\n",
            "\n",
            "F1 score: 0.9831\n",
            "XGBoost Training time: 0.6284282289010673 seconds\n",
            "XGBoost Memory usage: 109.79523072850122 MB\n"
          ]
        }
      ]
    },
    {
      "cell_type": "code",
      "source": [
        "c_m = confusion_matrix(y_pred, y_test)\n",
        "sns.heatmap(c_m, annot=True, fmt='g')\n",
        "plt.ylabel('Prediction',fontsize=13)\n",
        "plt.xlabel('Actual',fontsize=13)\n",
        "plt.title('Confusion Matrix',fontsize=17)\n",
        "plt.show()"
      ],
      "metadata": {
        "colab": {
          "base_uri": "https://localhost:8080/",
          "height": 481
        },
        "id": "l1ASZqreylnj",
        "outputId": "21d945e8-9a6a-4d38-e58b-cb2108d5d20f"
      },
      "execution_count": null,
      "outputs": [
        {
          "output_type": "display_data",
          "data": {
            "text/plain": [
              "<Figure size 640x480 with 2 Axes>"
            ],
            "image/png": "[encoded data removed]"
          },
          "metadata": {}
        }
      ]
    },
    {
      "cell_type": "markdown",
      "source": [
        "## References"
      ],
      "metadata": {
        "id": "j0Wi9wym2Qym"
      }
    },
    {
      "cell_type": "markdown",
      "metadata": {
        "id": "xGHax3hFhoPb"
      },
      "source": [
        "- https://www.datacamp.com/tutorial/diving-deep-imbalanced-data\n",
        "\n",
        "- https://scikit-learn.org/stable/modules/generated/sklearn.ensemble.RandomForestClassifier.html\n",
        "\n",
        "- https://www.javatpoint.com/machine-learning-random-forest-algorithm\n",
        "\n",
        "- https://developers.google.com/machine-learning/data-prep/construct/sampling-splitting/imbalanced-data#:~:text=A%20classification%20data%20set%20with,smaller%20proportion%20are%20minority%20classes.\n",
        "\n",
        "- https://www.geeksforgeeks.org/random-forest-hyperparameter-tuning-in-python/\n",
        "\n",
        "- https://www.researchgate.net/publication/322396974_Breast_Cancer_Recurrence_Prediction_Using_Random_Forest_Model\n",
        "\n",
        "- https://www.kaggle.com/datasets/uciml/breast-cancer-wisconsin-data?resource=download\n",
        "\n",
        "- https://www.kaggle.com/code/badrmedhatbadr/breast-cancer-classification/notebook\n",
        "\n",
        "- https://www.kaggle.com/code/stuarthallows/using-xgboost-with-scikit-learn\n",
        "\n",
        "- https://www.kaggle.com/code/streetlamb/ensemble-with-xgboost-and-random-forest\n",
        "\n",
        "- https://medium.com/@srishtisawla/fine-tuning-your-xgboost-model-with-key-hyperparameters-afe2f1df5cd4\n",
        "\n",
        "- https://medium.com/@rithpansanga/the-main-parameters-in-xgboost-and-their-effects-on-model-performance-4f9833cac7c#:~:text=n_estimators,is%20between%20100%20and%201000.\n",
        "\n",
        "- https://www.kaggle.com/code/pratikkgandhi/predicting-breast-cancer-with-random-forest-95\n",
        "\n",
        "- https://www.researchgate.net/publication/322396974_Breast_Cancer_Recurrence_Prediction_Using_Random_Forest_Model\n",
        "\n",
        "- https://www.kaggle.com/datasets/uciml/breast-cancer-wisconsin-data?resource=download\n",
        "\n",
        "- https://www.kaggle.com/code/badrmedhatbadr/breast-cancer-classification/notebook\n",
        "\n",
        "- https://www.kaggle.com/code/hanzlanawaz/99-breast-cancer-prediction-using-xgboost\n",
        "\n",
        "- https://medium.com/analytics-vidhya/random-forest-classifier-and-its-hyperparameters-8467bec755f6\n",
        "\n",
        "- https://www.kaggle.com/code/streetlamb/ensemble-with-xgboost-and-random-forest"
      ]
    },
    {
      "cell_type": "markdown",
      "metadata": {
        "id": "9BxDSG7EqGxC"
      },
      "source": [
        "---"
      ]
    },
    {
      "cell_type": "markdown",
      "metadata": {
        "id": "GtmSQkKwqHwP"
      },
      "source": [
        "# Noisy data or features"
      ]
    },
    {
      "cell_type": "markdown",
      "source": [
        "**Dataset**: [UCI Adult Income](https://archive.ics.uci.edu/dataset/2/adult)\n",
        "\n",
        "Scikit learn URL: https://shap.readthedocs.io/en/latest/example_notebooks/tabular_examples/model_agnostic/Census%20income%20classification%20with%20scikit-learn.html"
      ],
      "metadata": {
        "id": "1hdz6KUR2mci"
      }
    },
    {
      "cell_type": "markdown",
      "source": [
        "**Evaluation metric**: Precision."
      ],
      "metadata": {
        "id": "k7T-MisOw64Y"
      }
    },
    {
      "cell_type": "markdown",
      "metadata": {
        "id": "wE6qJnG1qH0K"
      },
      "source": [
        "A good dataset for comparing the Random Forest and XGBoost models would be the UCI Adult Income dataset. This dataset predicts whether income exceeds $50K/yr based on census data. It contains a mix of continuous and categorical variables and has missing values, which can be considered as noise.\n",
        "\n",
        "The target variable is income which is divided into two classes: <=50K and >50K."
      ]
    },
    {
      "cell_type": "code",
      "source": [
        "!pip install shap"
      ],
      "metadata": {
        "colab": {
          "base_uri": "https://localhost:8080/"
        },
        "id": "7yRLDFiucyee",
        "outputId": "fdd85699-77d4-480f-d7a9-c7a9b73c3755"
      },
      "execution_count": null,
      "outputs": [
        {
          "output_type": "stream",
          "name": "stdout",
          "text": [
            "Collecting shap\n",
            "  Downloading shap-0.44.0-cp310-cp310-manylinux_2_12_x86_64.manylinux2010_x86_64.manylinux_2_17_x86_64.manylinux2014_x86_64.whl (533 kB)\n",
            "\u001b[?25l     \u001b[90m━━━━━━━━━━━━━━━━━━━━━━━━━━━━━━━━━━━━━━━━\u001b[0m \u001b[32m0.0/533.5 kB\u001b[0m \u001b[31m?\u001b[0m eta \u001b[36m-:--:--\u001b[0m\r\u001b[2K     \u001b[91m━━━━━━\u001b[0m\u001b[90m╺\u001b[0m\u001b[90m━━━━━━━━━━━━━━━━━━━━━━━━━━━━━━━━━\u001b[0m \u001b[32m81.9/533.5 kB\u001b[0m \u001b[31m2.4 MB/s\u001b[0m eta \u001b[36m0:00:01\u001b[0m\r\u001b[2K     \u001b[91m━━━━━━━━━━━━━━━━━━━━━━━━━━━━━━━━━━━━━━━\u001b[0m\u001b[91m╸\u001b[0m \u001b[32m532.5/533.5 kB\u001b[0m \u001b[31m7.9 MB/s\u001b[0m eta \u001b[36m0:00:01\u001b[0m\r\u001b[2K     \u001b[90m━━━━━━━━━━━━━━━━━━━━━━━━━━━━━━━━━━━━━━━━\u001b[0m \u001b[32m533.5/533.5 kB\u001b[0m \u001b[31m6.7 MB/s\u001b[0m eta \u001b[36m0:00:00\u001b[0m\n",
            "\u001b[?25hRequirement already satisfied: numpy in /usr/local/lib/python3.10/dist-packages (from shap) (1.23.5)\n",
            "Requirement already satisfied: scipy in /usr/local/lib/python3.10/dist-packages (from shap) (1.11.4)\n",
            "Requirement already satisfied: scikit-learn in /usr/local/lib/python3.10/dist-packages (from shap) (1.2.2)\n",
            "Requirement already satisfied: pandas in /usr/local/lib/python3.10/dist-packages (from shap) (1.5.3)\n",
            "Requirement already satisfied: tqdm>=4.27.0 in /usr/local/lib/python3.10/dist-packages (from shap) (4.66.1)\n",
            "Requirement already satisfied: packaging>20.9 in /usr/local/lib/python3.10/dist-packages (from shap) (23.2)\n",
            "Collecting slicer==0.0.7 (from shap)\n",
            "  Downloading slicer-0.0.7-py3-none-any.whl (14 kB)\n",
            "Requirement already satisfied: numba in /usr/local/lib/python3.10/dist-packages (from shap) (0.58.1)\n",
            "Requirement already satisfied: cloudpickle in /usr/local/lib/python3.10/dist-packages (from shap) (2.2.1)\n",
            "Requirement already satisfied: llvmlite<0.42,>=0.41.0dev0 in /usr/local/lib/python3.10/dist-packages (from numba->shap) (0.41.1)\n",
            "Requirement already satisfied: python-dateutil>=2.8.1 in /usr/local/lib/python3.10/dist-packages (from pandas->shap) (2.8.2)\n",
            "Requirement already satisfied: pytz>=2020.1 in /usr/local/lib/python3.10/dist-packages (from pandas->shap) (2023.3.post1)\n",
            "Requirement already satisfied: joblib>=1.1.1 in /usr/local/lib/python3.10/dist-packages (from scikit-learn->shap) (1.3.2)\n",
            "Requirement already satisfied: threadpoolctl>=2.0.0 in /usr/local/lib/python3.10/dist-packages (from scikit-learn->shap) (3.2.0)\n",
            "Requirement already satisfied: six>=1.5 in /usr/local/lib/python3.10/dist-packages (from python-dateutil>=2.8.1->pandas->shap) (1.16.0)\n",
            "Installing collected packages: slicer, shap\n",
            "Successfully installed shap-0.44.0 slicer-0.0.7\n"
          ]
        }
      ]
    },
    {
      "cell_type": "code",
      "source": [
        "from shap.datasets import adult\n",
        "X, y = adult()"
      ],
      "metadata": {
        "id": "m_YRB5hCc-rP"
      },
      "execution_count": null,
      "outputs": []
    },
    {
      "cell_type": "code",
      "source": [
        "X.head()"
      ],
      "metadata": {
        "colab": {
          "base_uri": "https://localhost:8080/",
          "height": 206
        },
        "id": "i6jFJw_AdaUJ",
        "outputId": "d45ae856-7774-4956-b2e2-56cc1f7e8b1c"
      },
      "execution_count": null,
      "outputs": [
        {
          "output_type": "execute_result",
          "data": {
            "text/plain": [
              "    Age  Workclass  Education-Num  Marital Status  Occupation  Relationship  \\\n",
              "0  39.0          7           13.0               4           1             0   \n",
              "1  50.0          6           13.0               2           4             4   \n",
              "2  38.0          4            9.0               0           6             0   \n",
              "3  53.0          4            7.0               2           6             4   \n",
              "4  28.0          4           13.0               2          10             5   \n",
              "\n",
              "   Race  Sex  Capital Gain  Capital Loss  Hours per week  Country  \n",
              "0     4    1        2174.0           0.0            40.0       39  \n",
              "1     4    1           0.0           0.0            13.0       39  \n",
              "2     4    1           0.0           0.0            40.0       39  \n",
              "3     2    1           0.0           0.0            40.0       39  \n",
              "4     2    0           0.0           0.0            40.0        5  "
            ],
            "text/html": [
              "\n",
              "  <div id=\"df-bc37d4df-a936-4850-83da-cafbdb5bfb55\" class=\"colab-df-container\">\n",
              "    <div>\n",
              "<style scoped>\n",
              "    .dataframe tbody tr th:only-of-type {\n",
              "        vertical-align: middle;\n",
              "    }\n",
              "\n",
              "    .dataframe tbody tr th {\n",
              "        vertical-align: top;\n",
              "    }\n",
              "\n",
              "    .dataframe thead th {\n",
              "        text-align: right;\n",
              "    }\n",
              "</style>\n",
              "<table border=\"1\" class=\"dataframe\">\n",
              "  <thead>\n",
              "    <tr style=\"text-align: right;\">\n",
              "      <th></th>\n",
              "      <th>Age</th>\n",
              "      <th>Workclass</th>\n",
              "      <th>Education-Num</th>\n",
              "      <th>Marital Status</th>\n",
              "      <th>Occupation</th>\n",
              "      <th>Relationship</th>\n",
              "      <th>Race</th>\n",
              "      <th>Sex</th>\n",
              "      <th>Capital Gain</th>\n",
              "      <th>Capital Loss</th>\n",
              "      <th>Hours per week</th>\n",
              "      <th>Country</th>\n",
              "    </tr>\n",
              "  </thead>\n",
              "  <tbody>\n",
              "    <tr>\n",
              "      <th>0</th>\n",
              "      <td>39.0</td>\n",
              "      <td>7</td>\n",
              "      <td>13.0</td>\n",
              "      <td>4</td>\n",
              "      <td>1</td>\n",
              "      <td>0</td>\n",
              "      <td>4</td>\n",
              "      <td>1</td>\n",
              "      <td>2174.0</td>\n",
              "      <td>0.0</td>\n",
              "      <td>40.0</td>\n",
              "      <td>39</td>\n",
              "    </tr>\n",
              "    <tr>\n",
              "      <th>1</th>\n",
              "      <td>50.0</td>\n",
              "      <td>6</td>\n",
              "      <td>13.0</td>\n",
              "      <td>2</td>\n",
              "      <td>4</td>\n",
              "      <td>4</td>\n",
              "      <td>4</td>\n",
              "      <td>1</td>\n",
              "      <td>0.0</td>\n",
              "      <td>0.0</td>\n",
              "      <td>13.0</td>\n",
              "      <td>39</td>\n",
              "    </tr>\n",
              "    <tr>\n",
              "      <th>2</th>\n",
              "      <td>38.0</td>\n",
              "      <td>4</td>\n",
              "      <td>9.0</td>\n",
              "      <td>0</td>\n",
              "      <td>6</td>\n",
              "      <td>0</td>\n",
              "      <td>4</td>\n",
              "      <td>1</td>\n",
              "      <td>0.0</td>\n",
              "      <td>0.0</td>\n",
              "      <td>40.0</td>\n",
              "      <td>39</td>\n",
              "    </tr>\n",
              "    <tr>\n",
              "      <th>3</th>\n",
              "      <td>53.0</td>\n",
              "      <td>4</td>\n",
              "      <td>7.0</td>\n",
              "      <td>2</td>\n",
              "      <td>6</td>\n",
              "      <td>4</td>\n",
              "      <td>2</td>\n",
              "      <td>1</td>\n",
              "      <td>0.0</td>\n",
              "      <td>0.0</td>\n",
              "      <td>40.0</td>\n",
              "      <td>39</td>\n",
              "    </tr>\n",
              "    <tr>\n",
              "      <th>4</th>\n",
              "      <td>28.0</td>\n",
              "      <td>4</td>\n",
              "      <td>13.0</td>\n",
              "      <td>2</td>\n",
              "      <td>10</td>\n",
              "      <td>5</td>\n",
              "      <td>2</td>\n",
              "      <td>0</td>\n",
              "      <td>0.0</td>\n",
              "      <td>0.0</td>\n",
              "      <td>40.0</td>\n",
              "      <td>5</td>\n",
              "    </tr>\n",
              "  </tbody>\n",
              "</table>\n",
              "</div>\n",
              "    <div class=\"colab-df-buttons\">\n",
              "\n",
              "  <div class=\"colab-df-container\">\n",
              "    <button class=\"colab-df-convert\" onclick=\"convertToInteractive('df-bc37d4df-a936-4850-83da-cafbdb5bfb55')\"\n",
              "            title=\"Convert this dataframe to an interactive table.\"\n",
              "            style=\"display:none;\">\n",
              "\n",
              "  <svg xmlns=\"http://www.w3.org/2000/svg\" height=\"24px\" viewBox=\"0 -960 960 960\">\n",
              "    <path d=\"M120-120v-720h720v720H120Zm60-500h600v-160H180v160Zm220 220h160v-160H400v160Zm0 220h160v-160H400v160ZM180-400h160v-160H180v160Zm440 0h160v-160H620v160ZM180-180h160v-160H180v160Zm440 0h160v-160H620v160Z\"/>\n",
              "  </svg>\n",
              "    </button>\n",
              "\n",
              "  <style>\n",
              "    .colab-df-container {\n",
              "      display:flex;\n",
              "      gap: 12px;\n",
              "    }\n",
              "\n",
              "    .colab-df-convert {\n",
              "      background-color: #E8F0FE;\n",
              "      border: none;\n",
              "      border-radius: 50%;\n",
              "      cursor: pointer;\n",
              "      display: none;\n",
              "      fill: #1967D2;\n",
              "      height: 32px;\n",
              "      padding: 0 0 0 0;\n",
              "      width: 32px;\n",
              "    }\n",
              "\n",
              "    .colab-df-convert:hover {\n",
              "      background-color: #E2EBFA;\n",
              "      box-shadow: 0px 1px 2px rgba(60, 64, 67, 0.3), 0px 1px 3px 1px rgba(60, 64, 67, 0.15);\n",
              "      fill: #174EA6;\n",
              "    }\n",
              "\n",
              "    .colab-df-buttons div {\n",
              "      margin-bottom: 4px;\n",
              "    }\n",
              "\n",
              "    [theme=dark] .colab-df-convert {\n",
              "      background-color: #3B4455;\n",
              "      fill: #D2E3FC;\n",
              "    }\n",
              "\n",
              "    [theme=dark] .colab-df-convert:hover {\n",
              "      background-color: #434B5C;\n",
              "      box-shadow: 0px 1px 3px 1px rgba(0, 0, 0, 0.15);\n",
              "      filter: drop-shadow(0px 1px 2px rgba(0, 0, 0, 0.3));\n",
              "      fill: #FFFFFF;\n",
              "    }\n",
              "  </style>\n",
              "\n",
              "    <script>\n",
              "      const buttonEl =\n",
              "        document.querySelector('#df-bc37d4df-a936-4850-83da-cafbdb5bfb55 button.colab-df-convert');\n",
              "      buttonEl.style.display =\n",
              "        google.colab.kernel.accessAllowed ? 'block' : 'none';\n",
              "\n",
              "      async function convertToInteractive(key) {\n",
              "        const element = document.querySelector('#df-bc37d4df-a936-4850-83da-cafbdb5bfb55');\n",
              "        const dataTable =\n",
              "          await google.colab.kernel.invokeFunction('convertToInteractive',\n",
              "                                                    [key], {});\n",
              "        if (!dataTable) return;\n",
              "\n",
              "        const docLinkHtml = 'Like what you see? Visit the ' +\n",
              "          '<a target=\"_blank\" href=https://colab.research.google.com/notebooks/data_table.ipynb>data table notebook</a>'\n",
              "          + ' to learn more about interactive tables.';\n",
              "        element.innerHTML = '';\n",
              "        dataTable['output_type'] = 'display_data';\n",
              "        await google.colab.output.renderOutput(dataTable, element);\n",
              "        const docLink = document.createElement('div');\n",
              "        docLink.innerHTML = docLinkHtml;\n",
              "        element.appendChild(docLink);\n",
              "      }\n",
              "    </script>\n",
              "  </div>\n",
              "\n",
              "\n",
              "<div id=\"df-efecfe3b-f89f-448c-bd11-19b5d4d1a699\">\n",
              "  <button class=\"colab-df-quickchart\" onclick=\"quickchart('df-efecfe3b-f89f-448c-bd11-19b5d4d1a699')\"\n",
              "            title=\"Suggest charts\"\n",
              "            style=\"display:none;\">\n",
              "\n",
              "<svg xmlns=\"http://www.w3.org/2000/svg\" height=\"24px\"viewBox=\"0 0 24 24\"\n",
              "     width=\"24px\">\n",
              "    <g>\n",
              "        <path d=\"M19 3H5c-1.1 0-2 .9-2 2v14c0 1.1.9 2 2 2h14c1.1 0 2-.9 2-2V5c0-1.1-.9-2-2-2zM9 17H7v-7h2v7zm4 0h-2V7h2v10zm4 0h-2v-4h2v4z\"/>\n",
              "    </g>\n",
              "</svg>\n",
              "  </button>\n",
              "\n",
              "<style>\n",
              "  .colab-df-quickchart {\n",
              "      --bg-color: #E8F0FE;\n",
              "      --fill-color: #1967D2;\n",
              "      --hover-bg-color: #E2EBFA;\n",
              "      --hover-fill-color: #174EA6;\n",
              "      --disabled-fill-color: #AAA;\n",
              "      --disabled-bg-color: #DDD;\n",
              "  }\n",
              "\n",
              "  [theme=dark] .colab-df-quickchart {\n",
              "      --bg-color: #3B4455;\n",
              "      --fill-color: #D2E3FC;\n",
              "      --hover-bg-color: #434B5C;\n",
              "      --hover-fill-color: #FFFFFF;\n",
              "      --disabled-bg-color: #3B4455;\n",
              "      --disabled-fill-color: #666;\n",
              "  }\n",
              "\n",
              "  .colab-df-quickchart {\n",
              "    background-color: var(--bg-color);\n",
              "    border: none;\n",
              "    border-radius: 50%;\n",
              "    cursor: pointer;\n",
              "    display: none;\n",
              "    fill: var(--fill-color);\n",
              "    height: 32px;\n",
              "    padding: 0;\n",
              "    width: 32px;\n",
              "  }\n",
              "\n",
              "  .colab-df-quickchart:hover {\n",
              "    background-color: var(--hover-bg-color);\n",
              "    box-shadow: 0 1px 2px rgba(60, 64, 67, 0.3), 0 1px 3px 1px rgba(60, 64, 67, 0.15);\n",
              "    fill: var(--button-hover-fill-color);\n",
              "  }\n",
              "\n",
              "  .colab-df-quickchart-complete:disabled,\n",
              "  .colab-df-quickchart-complete:disabled:hover {\n",
              "    background-color: var(--disabled-bg-color);\n",
              "    fill: var(--disabled-fill-color);\n",
              "    box-shadow: none;\n",
              "  }\n",
              "\n",
              "  .colab-df-spinner {\n",
              "    border: 2px solid var(--fill-color);\n",
              "    border-color: transparent;\n",
              "    border-bottom-color: var(--fill-color);\n",
              "    animation:\n",
              "      spin 1s steps(1) infinite;\n",
              "  }\n",
              "\n",
              "  @keyframes spin {\n",
              "    0% {\n",
              "      border-color: transparent;\n",
              "      border-bottom-color: var(--fill-color);\n",
              "      border-left-color: var(--fill-color);\n",
              "    }\n",
              "    20% {\n",
              "      border-color: transparent;\n",
              "      border-left-color: var(--fill-color);\n",
              "      border-top-color: var(--fill-color);\n",
              "    }\n",
              "    30% {\n",
              "      border-color: transparent;\n",
              "      border-left-color: var(--fill-color);\n",
              "      border-top-color: var(--fill-color);\n",
              "      border-right-color: var(--fill-color);\n",
              "    }\n",
              "    40% {\n",
              "      border-color: transparent;\n",
              "      border-right-color: var(--fill-color);\n",
              "      border-top-color: var(--fill-color);\n",
              "    }\n",
              "    60% {\n",
              "      border-color: transparent;\n",
              "      border-right-color: var(--fill-color);\n",
              "    }\n",
              "    80% {\n",
              "      border-color: transparent;\n",
              "      border-right-color: var(--fill-color);\n",
              "      border-bottom-color: var(--fill-color);\n",
              "    }\n",
              "    90% {\n",
              "      border-color: transparent;\n",
              "      border-bottom-color: var(--fill-color);\n",
              "    }\n",
              "  }\n",
              "</style>\n",
              "\n",
              "  <script>\n",
              "    async function quickchart(key) {\n",
              "      const quickchartButtonEl =\n",
              "        document.querySelector('#' + key + ' button');\n",
              "      quickchartButtonEl.disabled = true;  // To prevent multiple clicks.\n",
              "      quickchartButtonEl.classList.add('colab-df-spinner');\n",
              "      try {\n",
              "        const charts = await google.colab.kernel.invokeFunction(\n",
              "            'suggestCharts', [key], {});\n",
              "      } catch (error) {\n",
              "        console.error('Error during call to suggestCharts:', error);\n",
              "      }\n",
              "      quickchartButtonEl.classList.remove('colab-df-spinner');\n",
              "      quickchartButtonEl.classList.add('colab-df-quickchart-complete');\n",
              "    }\n",
              "    (() => {\n",
              "      let quickchartButtonEl =\n",
              "        document.querySelector('#df-efecfe3b-f89f-448c-bd11-19b5d4d1a699 button');\n",
              "      quickchartButtonEl.style.display =\n",
              "        google.colab.kernel.accessAllowed ? 'block' : 'none';\n",
              "    })();\n",
              "  </script>\n",
              "</div>\n",
              "\n",
              "    </div>\n",
              "  </div>\n"
            ]
          },
          "metadata": {},
          "execution_count": 92
        }
      ]
    },
    {
      "cell_type": "markdown",
      "source": [
        "Finding the number of outliers (noise) using Z-score."
      ],
      "metadata": {
        "id": "vQUXpwgp3cr8"
      }
    },
    {
      "cell_type": "code",
      "source": [
        "for column in X:\n",
        "  # Compute percentiles using Pandas quantile() function\n",
        "  percentile_25 = X[column].quantile(0.25)\n",
        "  percentile_50 = X[column].quantile(0.5)\n",
        "  percentile_75 = X[column].quantile(0.75)\n",
        "\n",
        "  # Compute interquartile range (IQR)\n",
        "  iqr = percentile_75 - percentile_25\n",
        "\n",
        "  LowerBound_Height = percentile_25 - 1.5*iqr\n",
        "  UpperBound_Height = percentile_75 + 1.5*iqr\n",
        "\n",
        "  NumRecordsBefore= X.shape[0]\n",
        "  DroppedRecords=X[(X[column] < LowerBound_Height) | (X[column] > UpperBound_Height)].shape[0]\n",
        "  print(f\"Column [{column}] number of outliers is: {DroppedRecords} ({100*DroppedRecords/NumRecordsBefore}%)\")"
      ],
      "metadata": {
        "colab": {
          "base_uri": "https://localhost:8080/"
        },
        "id": "pFGjWqtXjf8Q",
        "outputId": "6d60fb0a-f1f9-4e54-d910-e7c33ab05311"
      },
      "execution_count": null,
      "outputs": [
        {
          "output_type": "stream",
          "name": "stdout",
          "text": [
            "Column [Age] number of outliers is: 143 (0.4391757009919843%)\n",
            "Column [Workclass] number of outliers is: 9865 (30.296981050950524%)\n",
            "Column [Education-Num] number of outliers is: 1198 (3.679248180338442%)\n",
            "Column [Marital Status] number of outliers is: 0 (0.0%)\n",
            "Column [Occupation] number of outliers is: 0 (0.0%)\n",
            "Column [Relationship] number of outliers is: 0 (0.0%)\n",
            "Column [Race] number of outliers is: 4745 (14.572648260188569%)\n",
            "Column [Sex] number of outliers is: 0 (0.0%)\n",
            "Column [Capital Gain] number of outliers is: 2712 (8.328982525106722%)\n",
            "Column [Capital Loss] number of outliers is: 1519 (4.665090138509259%)\n",
            "Column [Hours per week] number of outliers is: 9008 (27.664998003746813%)\n",
            "Column [Country] number of outliers is: 3391 (10.414299315131599%)\n"
          ]
        }
      ]
    },
    {
      "cell_type": "markdown",
      "source": [
        "Here, we can notice the data is very noisy which is suitable for our objective."
      ],
      "metadata": {
        "id": "r8mKOKoT3gzB"
      }
    },
    {
      "cell_type": "code",
      "execution_count": null,
      "metadata": {
        "id": "8CqL5N8R0T7H"
      },
      "outputs": [],
      "source": [
        "from sklearn.model_selection import train_test_split\n",
        "x_train, x_test, y_train, y_test= train_test_split(X, y, test_size= 0.25, random_state=0)"
      ]
    },
    {
      "cell_type": "markdown",
      "metadata": {
        "id": "aVZgrwym0T7B"
      },
      "source": [
        "## Random forest"
      ]
    },
    {
      "cell_type": "code",
      "source": [
        "from sklearn.ensemble import RandomForestClassifier\n",
        "from sklearn.metrics import confusion_matrix\n",
        "from sklearn.metrics import classification_report\n",
        "from sklearn.metrics import precision_score\n",
        "import psutil\n",
        "import time\n",
        "\n",
        "classifier= RandomForestClassifier()\n",
        "\n",
        "memory_usage_b = psutil.virtual_memory()[3]/1000000000\n",
        "start_time = time.time()\n",
        "\n",
        "classifier.fit(x_train, y_train)\n",
        "\n",
        "end_time = time.time()\n",
        "memory_usage_a = psutil.virtual_memory()[3]/1000000000\n",
        "\n",
        "training_time = end_time - start_time\n",
        "memory_usage = (memory_usage_a - memory_usage_b)*1000\n",
        "\n",
        "y_pred= classifier.predict(x_test)\n",
        "print(classification_report(y_pred, y_test))\n",
        "\n",
        "precision = precision_score(y_test, y_pred)\n",
        "\n",
        "print(f\"Precision: {precision:.4f}\")\n",
        "print(f\"Random Forest Training time: {training_time} seconds\")\n",
        "print(f\"Random Forest Memory usage: {memory_usage} MB\")"
      ],
      "metadata": {
        "colab": {
          "base_uri": "https://localhost:8080/"
        },
        "id": "saxKo96i7Hvz",
        "outputId": "a8410d20-5d33-47b0-e2e0-dd34b427a2c6"
      },
      "execution_count": null,
      "outputs": [
        {
          "output_type": "stream",
          "name": "stdout",
          "text": [
            "              precision    recall  f1-score   support\n",
            "\n",
            "       False       0.92      0.88      0.90      6439\n",
            "        True       0.62      0.73      0.67      1702\n",
            "\n",
            "    accuracy                           0.85      8141\n",
            "   macro avg       0.77      0.81      0.79      8141\n",
            "weighted avg       0.86      0.85      0.86      8141\n",
            "\n",
            "Precision: 0.7212\n",
            "Random Forest Training time: 2.0962691898345946 seconds\n",
            "Random Forest Memory usage: 428.396976 MB\n"
          ]
        }
      ]
    },
    {
      "cell_type": "code",
      "source": [
        "from sklearn.metrics import confusion_matrix\n",
        "import seaborn as sns\n",
        "import matplotlib.pyplot as plt\n",
        "\n",
        "c_m = confusion_matrix(y_pred, y_test)\n",
        "sns.heatmap(c_m, annot=True, fmt='g')\n",
        "plt.ylabel('Prediction',fontsize=13)\n",
        "plt.xlabel('Actual',fontsize=13)\n",
        "plt.title('Confusion Matrix',fontsize=17)\n",
        "plt.show()"
      ],
      "metadata": {
        "colab": {
          "base_uri": "https://localhost:8080/",
          "height": 481
        },
        "id": "vUvRitSh7ZoI",
        "outputId": "6a341f70-5c8d-4db9-a12a-ec4754258098"
      },
      "execution_count": null,
      "outputs": [
        {
          "output_type": "display_data",
          "data": {
            "text/plain": [
              "<Figure size 640x480 with 2 Axes>"
            ],
            "image/png": "[encoded data removed]"
          },
          "metadata": {}
        }
      ]
    },
    {
      "cell_type": "code",
      "execution_count": null,
      "metadata": {
        "colab": {
          "base_uri": "https://localhost:8080/"
        },
        "id": "tizqHpL-0T7H",
        "outputId": "4ae45376-d593-4c8e-8892-2d23672b211f"
      },
      "outputs": [
        {
          "output_type": "stream",
          "name": "stdout",
          "text": [
            "RandomForestClassifier(max_depth=9, max_features=None, n_estimators=150)\n"
          ]
        }
      ],
      "source": [
        "from sklearn.model_selection import GridSearchCV, RandomizedSearchCV\n",
        "\n",
        "param_grid = {\n",
        "    'n_estimators': [100, 150, 200],\n",
        "    'max_features': ['sqrt', 'log2', None],\n",
        "    'max_depth': [3, 9, None],\n",
        "    'max_leaf_nodes': [5, 9, None],\n",
        "}\n",
        "\n",
        "grid_search = GridSearchCV(RandomForestClassifier(), param_grid=param_grid)\n",
        "\n",
        "grid_search.fit(x_train, y_train)\n",
        "print(grid_search.best_estimator_)"
      ]
    },
    {
      "cell_type": "code",
      "source": [
        "classifier= grid_search.best_estimator_\n",
        "\n",
        "memory_usage_b = psutil.virtual_memory()[3]/1000000000\n",
        "start_time = time.time()\n",
        "\n",
        "classifier.fit(x_train, y_train)\n",
        "\n",
        "end_time = time.time()\n",
        "memory_usage_a = psutil.virtual_memory()[3]/1000000000\n",
        "\n",
        "training_time = end_time - start_time\n",
        "memory_usage = (memory_usage_a - memory_usage_b)*1000\n",
        "\n",
        "y_pred= classifier.predict(x_test)\n",
        "print(classification_report(y_pred, y_test))\n",
        "\n",
        "precision = precision_score(y_test, y_pred)\n",
        "\n",
        "print(f\"Precision: {precision:.4f}\")\n",
        "print(f\"Random Forest Training time: {training_time} seconds\")\n",
        "print(f\"Random Forest Memory usage: {memory_usage} MB\")"
      ],
      "metadata": {
        "colab": {
          "base_uri": "https://localhost:8080/"
        },
        "id": "vlYBdZPpe4Ok",
        "outputId": "737e1579-6cf1-4b61-e0f5-2e1cf2c75a6d"
      },
      "execution_count": null,
      "outputs": [
        {
          "output_type": "stream",
          "name": "stdout",
          "text": [
            "              precision    recall  f1-score   support\n",
            "\n",
            "       False       0.95      0.88      0.91      6674\n",
            "        True       0.58      0.78      0.67      1467\n",
            "\n",
            "    accuracy                           0.86      8141\n",
            "   macro avg       0.76      0.83      0.79      8141\n",
            "weighted avg       0.88      0.86      0.87      8141\n",
            "\n",
            "Precision: 0.7846\n",
            "Random Forest Training time: 5.954276102008011 seconds\n",
            "Random Forest Memory usage: 581.0920901208009 MB\n"
          ]
        }
      ]
    },
    {
      "cell_type": "code",
      "source": [
        "from sklearn.metrics import confusion_matrix\n",
        "import seaborn as sns\n",
        "import matplotlib.pyplot as plt\n",
        "\n",
        "c_m = confusion_matrix(y_pred, y_test)\n",
        "sns.heatmap(c_m, annot=True, fmt='g')\n",
        "plt.ylabel('Prediction',fontsize=13)\n",
        "plt.xlabel('Actual',fontsize=13)\n",
        "plt.title('Confusion Matrix',fontsize=17)\n",
        "plt.show()"
      ],
      "metadata": {
        "colab": {
          "base_uri": "https://localhost:8080/",
          "height": 481
        },
        "id": "6fhYhTph7iap",
        "outputId": "83a69eec-970b-41af-9360-5ce485aa8f0a"
      },
      "execution_count": null,
      "outputs": [
        {
          "output_type": "display_data",
          "data": {
            "text/plain": [
              "<Figure size 640x480 with 2 Axes>"
            ],
            "image/png": "[encoded data removed]"
          },
          "metadata": {}
        }
      ]
    },
    {
      "cell_type": "markdown",
      "metadata": {
        "id": "hu4Q9pJe0T7H"
      },
      "source": [
        "## XGBoost"
      ]
    },
    {
      "cell_type": "code",
      "source": [
        "from xgboost import XGBClassifier\n",
        "from sklearn.metrics import classification_report\n",
        "from sklearn.metrics import precision_score\n",
        "import psutil\n",
        "import time\n",
        "\n",
        "classifier= XGBClassifier()\n",
        "\n",
        "memory_usage_b = psutil.virtual_memory()[3]/1000000000\n",
        "start_time = time.time()\n",
        "\n",
        "classifier.fit(x_train, y_train)\n",
        "\n",
        "end_time = time.time()\n",
        "memory_usage_a = psutil.virtual_memory()[3]/1000000000\n",
        "\n",
        "training_time = end_time - start_time\n",
        "memory_usage = (memory_usage_a - memory_usage_b)*1000\n",
        "\n",
        "y_pred= classifier.predict(x_test)\n",
        "print(classification_report(y_pred, y_test))\n",
        "\n",
        "precision = precision_score(y_test, y_pred)\n",
        "\n",
        "print(f\"Precision: {precision:.4f}\")\n",
        "print(f\"XGBoost Training time: {training_time} seconds\")\n",
        "print(f\"XGBoost Memory usage: {memory_usage} MB\")"
      ],
      "metadata": {
        "colab": {
          "base_uri": "https://localhost:8080/"
        },
        "outputId": "5f8609dc-edaf-4dda-e490-24d1ba6adc5d",
        "id": "qJNYvzrC_U7V"
      },
      "execution_count": null,
      "outputs": [
        {
          "output_type": "stream",
          "name": "stdout",
          "text": [
            "              precision    recall  f1-score   support\n",
            "\n",
            "           0       0.93      0.90      0.91      6385\n",
            "           1       0.67      0.76      0.71      1756\n",
            "\n",
            "    accuracy                           0.87      8141\n",
            "   macro avg       0.80      0.83      0.81      8141\n",
            "weighted avg       0.88      0.87      0.87      8141\n",
            "\n",
            "Precision: 0.7580\n",
            "XGBoost Training time: 3.227869749069214 seconds\n",
            "XGBoost Memory usage: 238.9720901208009 MB\n"
          ]
        }
      ]
    },
    {
      "cell_type": "code",
      "source": [
        "from sklearn.metrics import confusion_matrix\n",
        "import seaborn as sns\n",
        "import matplotlib.pyplot as plt\n",
        "\n",
        "c_m = confusion_matrix(y_pred, y_test)\n",
        "sns.heatmap(c_m, annot=True, fmt='g')\n",
        "plt.ylabel('Prediction',fontsize=13)\n",
        "plt.xlabel('Actual',fontsize=13)\n",
        "plt.title('Confusion Matrix',fontsize=17)\n",
        "plt.show()"
      ],
      "metadata": {
        "colab": {
          "base_uri": "https://localhost:8080/",
          "height": 481
        },
        "id": "IxqcQfO__ibn",
        "outputId": "5c5f4d33-b777-4310-dddc-4e85f3c26d5d"
      },
      "execution_count": null,
      "outputs": [
        {
          "output_type": "display_data",
          "data": {
            "text/plain": [
              "<Figure size 640x480 with 2 Axes>"
            ],
            "image/png": "[encoded data removed]"
          },
          "metadata": {}
        }
      ]
    },
    {
      "cell_type": "code",
      "execution_count": null,
      "metadata": {
        "colab": {
          "base_uri": "https://localhost:8080/"
        },
        "id": "kYky8qIw0T7I",
        "outputId": "67afea6f-0ac6-498e-90c6-7ffca7e7f469"
      },
      "outputs": [
        {
          "output_type": "stream",
          "name": "stdout",
          "text": [
            "XGBClassifier(base_score=None, booster=None, callbacks=None,\n",
            "              colsample_bylevel=None, colsample_bynode=None,\n",
            "              colsample_bytree=0.5, device=None, early_stopping_rounds=None,\n",
            "              enable_categorical=False, eval_metric=None, feature_types=None,\n",
            "              gamma=0.2, grow_policy=None, importance_type=None,\n",
            "              interaction_constraints=None, learning_rate=None, max_bin=None,\n",
            "              max_cat_threshold=None, max_cat_to_onehot=None,\n",
            "              max_delta_step=None, max_depth=None, max_leaves=None,\n",
            "              min_child_weight=None, missing=nan, monotone_constraints=None,\n",
            "              multi_strategy=None, n_estimators=50, n_jobs=None,\n",
            "              num_parallel_tree=None, random_state=None, ...)\n"
          ]
        }
      ],
      "source": [
        "from sklearn.model_selection import GridSearchCV, RandomizedSearchCV\n",
        "from scipy.stats import uniform, randint\n",
        "import numpy as np\n",
        "from xgboost import XGBClassifier\n",
        "\n",
        "params = {\n",
        "    \"colsample_bytree\": [0.5, None],\n",
        "    \"gamma\": [0.2, 0.5, None],\n",
        "    \"learning_rate\": [0.5, 1, None],\n",
        "    \"max_depth\": [2, None],\n",
        "    \"n_estimators\": [25, 50, 100, None],\n",
        "    \"subsample\": [0.6, None]\n",
        "}\n",
        "\n",
        "grid_search = GridSearchCV(XGBClassifier(),\n",
        "                           param_grid=params,\n",
        "                           n_jobs=10)\n",
        "grid_search.fit(x_train, y_train)\n",
        "print(grid_search.best_estimator_)"
      ]
    },
    {
      "cell_type": "code",
      "execution_count": null,
      "metadata": {
        "colab": {
          "base_uri": "https://localhost:8080/"
        },
        "id": "fzZEPWqP0T7I",
        "outputId": "b9f77c9d-a168-4e63-f207-61955b08dce6"
      },
      "outputs": [
        {
          "output_type": "stream",
          "name": "stdout",
          "text": [
            "              precision    recall  f1-score   support\n",
            "\n",
            "           0       0.94      0.90      0.92      6449\n",
            "           1       0.66      0.77      0.71      1692\n",
            "\n",
            "    accuracy                           0.87      8141\n",
            "   macro avg       0.80      0.83      0.81      8141\n",
            "weighted avg       0.88      0.87      0.87      8141\n",
            "\n",
            "Precision: 0.7713\n",
            "XGBoost Training time: 6.540289242923419 seconds\n",
            "XGBoost Memory usage: 412.80528190927527 MB\n"
          ]
        }
      ],
      "source": [
        "# Import necessary libraries\n",
        "import pandas as pd\n",
        "from sklearn.model_selection import train_test_split\n",
        "from xgboost import XGBClassifier\n",
        "from sklearn.preprocessing import LabelEncoder\n",
        "from sklearn.metrics import classification_report\n",
        "\n",
        "# Define and train the XGBoost model\n",
        "classifier = grid_search.best_estimator_\n",
        "\n",
        "memory_usage_b = psutil.virtual_memory()[3]/1000000000\n",
        "start_time = time.time()\n",
        "\n",
        "classifier.fit(x_train, y_train)\n",
        "\n",
        "end_time = time.time()\n",
        "memory_usage_a = psutil.virtual_memory()[3]/1000000000\n",
        "\n",
        "training_time = end_time - start_time\n",
        "memory_usage = (memory_usage_a - memory_usage_b)*1000\n",
        "\n",
        "y_pred= classifier.predict(x_test)\n",
        "print(classification_report(y_pred, y_test))\n",
        "\n",
        "precision = precision_score(y_test, y_pred)\n",
        "\n",
        "print(f\"Precision: {precision:.4f}\")\n",
        "print(f\"XGBoost Training time: {training_time} seconds\")\n",
        "print(f\"XGBoost Memory usage: {memory_usage} MB\")"
      ]
    },
    {
      "cell_type": "code",
      "source": [
        "c_m = confusion_matrix(y_pred, y_test)\n",
        "sns.heatmap(c_m, annot=True, fmt='g')\n",
        "plt.ylabel('Prediction',fontsize=13)\n",
        "plt.xlabel('Actual',fontsize=13)\n",
        "plt.title('Confusion Matrix',fontsize=17)\n",
        "plt.show()"
      ],
      "metadata": {
        "colab": {
          "base_uri": "https://localhost:8080/",
          "height": 481
        },
        "id": "zVVUkgNN_m2z",
        "outputId": "5cd4cc1c-fa14-49e5-d847-5328defaf3b8"
      },
      "execution_count": null,
      "outputs": [
        {
          "output_type": "display_data",
          "data": {
            "text/plain": [
              "<Figure size 640x480 with 2 Axes>"
            ],
            "image/png": "[encoded data removed]"
          },
          "metadata": {}
        }
      ]
    },
    {
      "cell_type": "markdown",
      "source": [
        "## References"
      ],
      "metadata": {
        "id": "tQsr86oZxKZa"
      }
    },
    {
      "cell_type": "markdown",
      "source": [
        "- https://www.kaggle.com/code/grayphantom/income-prediction-using-random-forest-and-xgboost\n",
        "\n",
        "- https://medium.com/analytics-vidhya/tuning-random-forest-algorithm-to-predict-income-14005371656e\n",
        "\n",
        "- https://www.kaggle.com/datasets/uciml/adult-census-income/data\n",
        "\n",
        "- https://www.kaggle.com/code/rchiranjeevisrinivas/adult-census-income-model-building\n",
        "\n",
        "- https://www.kaggle.com/code/dvorianchikova/adult-dataset"
      ],
      "metadata": {
        "id": "PRmUuJhcxLsJ"
      }
    },
    {
      "cell_type": "markdown",
      "metadata": {
        "id": "3TwubKgcqIOA"
      },
      "source": [
        "---"
      ]
    },
    {
      "cell_type": "markdown",
      "metadata": {
        "id": "78bW1X0XqT-l"
      },
      "source": [
        "# Large dataset"
      ]
    },
    {
      "cell_type": "markdown",
      "source": [
        "**Dataset**: [Covertype](https://archive.ics.uci.edu/dataset/31/covertype)\n",
        "\n",
        "Scikit learn URL: https://scikit-learn.org/stable/modules/generated/sklearn.datasets.fetch_covtype.html"
      ],
      "metadata": {
        "id": "-InivePFdFtu"
      }
    },
    {
      "cell_type": "markdown",
      "source": [
        "**Evaluation metric**: Accuracy."
      ],
      "metadata": {
        "id": "kZR3grCudXmf"
      }
    },
    {
      "cell_type": "markdown",
      "source": [
        "Load the dataset."
      ],
      "metadata": {
        "id": "n9SvbMXIEh0a"
      }
    },
    {
      "cell_type": "code",
      "source": [
        "from sklearn.datasets import fetch_covtype\n",
        "df = fetch_covtype(as_frame=True)"
      ],
      "metadata": {
        "id": "KzTYzCR70D9M"
      },
      "execution_count": null,
      "outputs": []
    },
    {
      "cell_type": "code",
      "source": [
        "df.frame.head()"
      ],
      "metadata": {
        "colab": {
          "base_uri": "https://localhost:8080/",
          "height": 256
        },
        "id": "43r6paPy0foR",
        "outputId": "ae523f40-6066-4d86-afd7-dd545a7f0088"
      },
      "execution_count": null,
      "outputs": [
        {
          "output_type": "execute_result",
          "data": {
            "text/plain": [
              "   Elevation  Aspect  Slope  Horizontal_Distance_To_Hydrology  \\\n",
              "0     2596.0    51.0    3.0                             258.0   \n",
              "1     2590.0    56.0    2.0                             212.0   \n",
              "2     2804.0   139.0    9.0                             268.0   \n",
              "3     2785.0   155.0   18.0                             242.0   \n",
              "4     2595.0    45.0    2.0                             153.0   \n",
              "\n",
              "   Vertical_Distance_To_Hydrology  Horizontal_Distance_To_Roadways  \\\n",
              "0                             0.0                            510.0   \n",
              "1                            -6.0                            390.0   \n",
              "2                            65.0                           3180.0   \n",
              "3                           118.0                           3090.0   \n",
              "4                            -1.0                            391.0   \n",
              "\n",
              "   Hillshade_9am  Hillshade_Noon  Hillshade_3pm  \\\n",
              "0          221.0           232.0          148.0   \n",
              "1          220.0           235.0          151.0   \n",
              "2          234.0           238.0          135.0   \n",
              "3          238.0           238.0          122.0   \n",
              "4          220.0           234.0          150.0   \n",
              "\n",
              "   Horizontal_Distance_To_Fire_Points  ...  Soil_Type_31  Soil_Type_32  \\\n",
              "0                              6279.0  ...           0.0           0.0   \n",
              "1                              6225.0  ...           0.0           0.0   \n",
              "2                              6121.0  ...           0.0           0.0   \n",
              "3                              6211.0  ...           0.0           0.0   \n",
              "4                              6172.0  ...           0.0           0.0   \n",
              "\n",
              "   Soil_Type_33  Soil_Type_34  Soil_Type_35  Soil_Type_36  Soil_Type_37  \\\n",
              "0           0.0           0.0           0.0           0.0           0.0   \n",
              "1           0.0           0.0           0.0           0.0           0.0   \n",
              "2           0.0           0.0           0.0           0.0           0.0   \n",
              "3           0.0           0.0           0.0           0.0           0.0   \n",
              "4           0.0           0.0           0.0           0.0           0.0   \n",
              "\n",
              "   Soil_Type_38  Soil_Type_39  Cover_Type  \n",
              "0           0.0           0.0           5  \n",
              "1           0.0           0.0           5  \n",
              "2           0.0           0.0           2  \n",
              "3           0.0           0.0           2  \n",
              "4           0.0           0.0           5  \n",
              "\n",
              "[5 rows x 55 columns]"
            ],
            "text/html": [
              "\n",
              "  <div id=\"df-7a774f47-83e4-459e-b7aa-89d0303fa3c6\" class=\"colab-df-container\">\n",
              "    <div>\n",
              "<style scoped>\n",
              "    .dataframe tbody tr th:only-of-type {\n",
              "        vertical-align: middle;\n",
              "    }\n",
              "\n",
              "    .dataframe tbody tr th {\n",
              "        vertical-align: top;\n",
              "    }\n",
              "\n",
              "    .dataframe thead th {\n",
              "        text-align: right;\n",
              "    }\n",
              "</style>\n",
              "<table border=\"1\" class=\"dataframe\">\n",
              "  <thead>\n",
              "    <tr style=\"text-align: right;\">\n",
              "      <th></th>\n",
              "      <th>Elevation</th>\n",
              "      <th>Aspect</th>\n",
              "      <th>Slope</th>\n",
              "      <th>Horizontal_Distance_To_Hydrology</th>\n",
              "      <th>Vertical_Distance_To_Hydrology</th>\n",
              "      <th>Horizontal_Distance_To_Roadways</th>\n",
              "      <th>Hillshade_9am</th>\n",
              "      <th>Hillshade_Noon</th>\n",
              "      <th>Hillshade_3pm</th>\n",
              "      <th>Horizontal_Distance_To_Fire_Points</th>\n",
              "      <th>...</th>\n",
              "      <th>Soil_Type_31</th>\n",
              "      <th>Soil_Type_32</th>\n",
              "      <th>Soil_Type_33</th>\n",
              "      <th>Soil_Type_34</th>\n",
              "      <th>Soil_Type_35</th>\n",
              "      <th>Soil_Type_36</th>\n",
              "      <th>Soil_Type_37</th>\n",
              "      <th>Soil_Type_38</th>\n",
              "      <th>Soil_Type_39</th>\n",
              "      <th>Cover_Type</th>\n",
              "    </tr>\n",
              "  </thead>\n",
              "  <tbody>\n",
              "    <tr>\n",
              "      <th>0</th>\n",
              "      <td>2596.0</td>\n",
              "      <td>51.0</td>\n",
              "      <td>3.0</td>\n",
              "      <td>258.0</td>\n",
              "      <td>0.0</td>\n",
              "      <td>510.0</td>\n",
              "      <td>221.0</td>\n",
              "      <td>232.0</td>\n",
              "      <td>148.0</td>\n",
              "      <td>6279.0</td>\n",
              "      <td>...</td>\n",
              "      <td>0.0</td>\n",
              "      <td>0.0</td>\n",
              "      <td>0.0</td>\n",
              "      <td>0.0</td>\n",
              "      <td>0.0</td>\n",
              "      <td>0.0</td>\n",
              "      <td>0.0</td>\n",
              "      <td>0.0</td>\n",
              "      <td>0.0</td>\n",
              "      <td>5</td>\n",
              "    </tr>\n",
              "    <tr>\n",
              "      <th>1</th>\n",
              "      <td>2590.0</td>\n",
              "      <td>56.0</td>\n",
              "      <td>2.0</td>\n",
              "      <td>212.0</td>\n",
              "      <td>-6.0</td>\n",
              "      <td>390.0</td>\n",
              "      <td>220.0</td>\n",
              "      <td>235.0</td>\n",
              "      <td>151.0</td>\n",
              "      <td>6225.0</td>\n",
              "      <td>...</td>\n",
              "      <td>0.0</td>\n",
              "      <td>0.0</td>\n",
              "      <td>0.0</td>\n",
              "      <td>0.0</td>\n",
              "      <td>0.0</td>\n",
              "      <td>0.0</td>\n",
              "      <td>0.0</td>\n",
              "      <td>0.0</td>\n",
              "      <td>0.0</td>\n",
              "      <td>5</td>\n",
              "    </tr>\n",
              "    <tr>\n",
              "      <th>2</th>\n",
              "      <td>2804.0</td>\n",
              "      <td>139.0</td>\n",
              "      <td>9.0</td>\n",
              "      <td>268.0</td>\n",
              "      <td>65.0</td>\n",
              "      <td>3180.0</td>\n",
              "      <td>234.0</td>\n",
              "      <td>238.0</td>\n",
              "      <td>135.0</td>\n",
              "      <td>6121.0</td>\n",
              "      <td>...</td>\n",
              "      <td>0.0</td>\n",
              "      <td>0.0</td>\n",
              "      <td>0.0</td>\n",
              "      <td>0.0</td>\n",
              "      <td>0.0</td>\n",
              "      <td>0.0</td>\n",
              "      <td>0.0</td>\n",
              "      <td>0.0</td>\n",
              "      <td>0.0</td>\n",
              "      <td>2</td>\n",
              "    </tr>\n",
              "    <tr>\n",
              "      <th>3</th>\n",
              "      <td>2785.0</td>\n",
              "      <td>155.0</td>\n",
              "      <td>18.0</td>\n",
              "      <td>242.0</td>\n",
              "      <td>118.0</td>\n",
              "      <td>3090.0</td>\n",
              "      <td>238.0</td>\n",
              "      <td>238.0</td>\n",
              "      <td>122.0</td>\n",
              "      <td>6211.0</td>\n",
              "      <td>...</td>\n",
              "      <td>0.0</td>\n",
              "      <td>0.0</td>\n",
              "      <td>0.0</td>\n",
              "      <td>0.0</td>\n",
              "      <td>0.0</td>\n",
              "      <td>0.0</td>\n",
              "      <td>0.0</td>\n",
              "      <td>0.0</td>\n",
              "      <td>0.0</td>\n",
              "      <td>2</td>\n",
              "    </tr>\n",
              "    <tr>\n",
              "      <th>4</th>\n",
              "      <td>2595.0</td>\n",
              "      <td>45.0</td>\n",
              "      <td>2.0</td>\n",
              "      <td>153.0</td>\n",
              "      <td>-1.0</td>\n",
              "      <td>391.0</td>\n",
              "      <td>220.0</td>\n",
              "      <td>234.0</td>\n",
              "      <td>150.0</td>\n",
              "      <td>6172.0</td>\n",
              "      <td>...</td>\n",
              "      <td>0.0</td>\n",
              "      <td>0.0</td>\n",
              "      <td>0.0</td>\n",
              "      <td>0.0</td>\n",
              "      <td>0.0</td>\n",
              "      <td>0.0</td>\n",
              "      <td>0.0</td>\n",
              "      <td>0.0</td>\n",
              "      <td>0.0</td>\n",
              "      <td>5</td>\n",
              "    </tr>\n",
              "  </tbody>\n",
              "</table>\n",
              "<p>5 rows × 55 columns</p>\n",
              "</div>\n",
              "    <div class=\"colab-df-buttons\">\n",
              "\n",
              "  <div class=\"colab-df-container\">\n",
              "    <button class=\"colab-df-convert\" onclick=\"convertToInteractive('df-7a774f47-83e4-459e-b7aa-89d0303fa3c6')\"\n",
              "            title=\"Convert this dataframe to an interactive table.\"\n",
              "            style=\"display:none;\">\n",
              "\n",
              "  <svg xmlns=\"http://www.w3.org/2000/svg\" height=\"24px\" viewBox=\"0 -960 960 960\">\n",
              "    <path d=\"M120-120v-720h720v720H120Zm60-500h600v-160H180v160Zm220 220h160v-160H400v160Zm0 220h160v-160H400v160ZM180-400h160v-160H180v160Zm440 0h160v-160H620v160ZM180-180h160v-160H180v160Zm440 0h160v-160H620v160Z\"/>\n",
              "  </svg>\n",
              "    </button>\n",
              "\n",
              "  <style>\n",
              "    .colab-df-container {\n",
              "      display:flex;\n",
              "      gap: 12px;\n",
              "    }\n",
              "\n",
              "    .colab-df-convert {\n",
              "      background-color: #E8F0FE;\n",
              "      border: none;\n",
              "      border-radius: 50%;\n",
              "      cursor: pointer;\n",
              "      display: none;\n",
              "      fill: #1967D2;\n",
              "      height: 32px;\n",
              "      padding: 0 0 0 0;\n",
              "      width: 32px;\n",
              "    }\n",
              "\n",
              "    .colab-df-convert:hover {\n",
              "      background-color: #E2EBFA;\n",
              "      box-shadow: 0px 1px 2px rgba(60, 64, 67, 0.3), 0px 1px 3px 1px rgba(60, 64, 67, 0.15);\n",
              "      fill: #174EA6;\n",
              "    }\n",
              "\n",
              "    .colab-df-buttons div {\n",
              "      margin-bottom: 4px;\n",
              "    }\n",
              "\n",
              "    [theme=dark] .colab-df-convert {\n",
              "      background-color: #3B4455;\n",
              "      fill: #D2E3FC;\n",
              "    }\n",
              "\n",
              "    [theme=dark] .colab-df-convert:hover {\n",
              "      background-color: #434B5C;\n",
              "      box-shadow: 0px 1px 3px 1px rgba(0, 0, 0, 0.15);\n",
              "      filter: drop-shadow(0px 1px 2px rgba(0, 0, 0, 0.3));\n",
              "      fill: #FFFFFF;\n",
              "    }\n",
              "  </style>\n",
              "\n",
              "    <script>\n",
              "      const buttonEl =\n",
              "        document.querySelector('#df-7a774f47-83e4-459e-b7aa-89d0303fa3c6 button.colab-df-convert');\n",
              "      buttonEl.style.display =\n",
              "        google.colab.kernel.accessAllowed ? 'block' : 'none';\n",
              "\n",
              "      async function convertToInteractive(key) {\n",
              "        const element = document.querySelector('#df-7a774f47-83e4-459e-b7aa-89d0303fa3c6');\n",
              "        const dataTable =\n",
              "          await google.colab.kernel.invokeFunction('convertToInteractive',\n",
              "                                                    [key], {});\n",
              "        if (!dataTable) return;\n",
              "\n",
              "        const docLinkHtml = 'Like what you see? Visit the ' +\n",
              "          '<a target=\"_blank\" href=https://colab.research.google.com/notebooks/data_table.ipynb>data table notebook</a>'\n",
              "          + ' to learn more about interactive tables.';\n",
              "        element.innerHTML = '';\n",
              "        dataTable['output_type'] = 'display_data';\n",
              "        await google.colab.output.renderOutput(dataTable, element);\n",
              "        const docLink = document.createElement('div');\n",
              "        docLink.innerHTML = docLinkHtml;\n",
              "        element.appendChild(docLink);\n",
              "      }\n",
              "    </script>\n",
              "  </div>\n",
              "\n",
              "\n",
              "<div id=\"df-633bab8f-9239-46e3-95b1-7fd86f367f97\">\n",
              "  <button class=\"colab-df-quickchart\" onclick=\"quickchart('df-633bab8f-9239-46e3-95b1-7fd86f367f97')\"\n",
              "            title=\"Suggest charts\"\n",
              "            style=\"display:none;\">\n",
              "\n",
              "<svg xmlns=\"http://www.w3.org/2000/svg\" height=\"24px\"viewBox=\"0 0 24 24\"\n",
              "     width=\"24px\">\n",
              "    <g>\n",
              "        <path d=\"M19 3H5c-1.1 0-2 .9-2 2v14c0 1.1.9 2 2 2h14c1.1 0 2-.9 2-2V5c0-1.1-.9-2-2-2zM9 17H7v-7h2v7zm4 0h-2V7h2v10zm4 0h-2v-4h2v4z\"/>\n",
              "    </g>\n",
              "</svg>\n",
              "  </button>\n",
              "\n",
              "<style>\n",
              "  .colab-df-quickchart {\n",
              "      --bg-color: #E8F0FE;\n",
              "      --fill-color: #1967D2;\n",
              "      --hover-bg-color: #E2EBFA;\n",
              "      --hover-fill-color: #174EA6;\n",
              "      --disabled-fill-color: #AAA;\n",
              "      --disabled-bg-color: #DDD;\n",
              "  }\n",
              "\n",
              "  [theme=dark] .colab-df-quickchart {\n",
              "      --bg-color: #3B4455;\n",
              "      --fill-color: #D2E3FC;\n",
              "      --hover-bg-color: #434B5C;\n",
              "      --hover-fill-color: #FFFFFF;\n",
              "      --disabled-bg-color: #3B4455;\n",
              "      --disabled-fill-color: #666;\n",
              "  }\n",
              "\n",
              "  .colab-df-quickchart {\n",
              "    background-color: var(--bg-color);\n",
              "    border: none;\n",
              "    border-radius: 50%;\n",
              "    cursor: pointer;\n",
              "    display: none;\n",
              "    fill: var(--fill-color);\n",
              "    height: 32px;\n",
              "    padding: 0;\n",
              "    width: 32px;\n",
              "  }\n",
              "\n",
              "  .colab-df-quickchart:hover {\n",
              "    background-color: var(--hover-bg-color);\n",
              "    box-shadow: 0 1px 2px rgba(60, 64, 67, 0.3), 0 1px 3px 1px rgba(60, 64, 67, 0.15);\n",
              "    fill: var(--button-hover-fill-color);\n",
              "  }\n",
              "\n",
              "  .colab-df-quickchart-complete:disabled,\n",
              "  .colab-df-quickchart-complete:disabled:hover {\n",
              "    background-color: var(--disabled-bg-color);\n",
              "    fill: var(--disabled-fill-color);\n",
              "    box-shadow: none;\n",
              "  }\n",
              "\n",
              "  .colab-df-spinner {\n",
              "    border: 2px solid var(--fill-color);\n",
              "    border-color: transparent;\n",
              "    border-bottom-color: var(--fill-color);\n",
              "    animation:\n",
              "      spin 1s steps(1) infinite;\n",
              "  }\n",
              "\n",
              "  @keyframes spin {\n",
              "    0% {\n",
              "      border-color: transparent;\n",
              "      border-bottom-color: var(--fill-color);\n",
              "      border-left-color: var(--fill-color);\n",
              "    }\n",
              "    20% {\n",
              "      border-color: transparent;\n",
              "      border-left-color: var(--fill-color);\n",
              "      border-top-color: var(--fill-color);\n",
              "    }\n",
              "    30% {\n",
              "      border-color: transparent;\n",
              "      border-left-color: var(--fill-color);\n",
              "      border-top-color: var(--fill-color);\n",
              "      border-right-color: var(--fill-color);\n",
              "    }\n",
              "    40% {\n",
              "      border-color: transparent;\n",
              "      border-right-color: var(--fill-color);\n",
              "      border-top-color: var(--fill-color);\n",
              "    }\n",
              "    60% {\n",
              "      border-color: transparent;\n",
              "      border-right-color: var(--fill-color);\n",
              "    }\n",
              "    80% {\n",
              "      border-color: transparent;\n",
              "      border-right-color: var(--fill-color);\n",
              "      border-bottom-color: var(--fill-color);\n",
              "    }\n",
              "    90% {\n",
              "      border-color: transparent;\n",
              "      border-bottom-color: var(--fill-color);\n",
              "    }\n",
              "  }\n",
              "</style>\n",
              "\n",
              "  <script>\n",
              "    async function quickchart(key) {\n",
              "      const quickchartButtonEl =\n",
              "        document.querySelector('#' + key + ' button');\n",
              "      quickchartButtonEl.disabled = true;  // To prevent multiple clicks.\n",
              "      quickchartButtonEl.classList.add('colab-df-spinner');\n",
              "      try {\n",
              "        const charts = await google.colab.kernel.invokeFunction(\n",
              "            'suggestCharts', [key], {});\n",
              "      } catch (error) {\n",
              "        console.error('Error during call to suggestCharts:', error);\n",
              "      }\n",
              "      quickchartButtonEl.classList.remove('colab-df-spinner');\n",
              "      quickchartButtonEl.classList.add('colab-df-quickchart-complete');\n",
              "    }\n",
              "    (() => {\n",
              "      let quickchartButtonEl =\n",
              "        document.querySelector('#df-633bab8f-9239-46e3-95b1-7fd86f367f97 button');\n",
              "      quickchartButtonEl.style.display =\n",
              "        google.colab.kernel.accessAllowed ? 'block' : 'none';\n",
              "    })();\n",
              "  </script>\n",
              "</div>\n",
              "\n",
              "    </div>\n",
              "  </div>\n"
            ]
          },
          "metadata": {},
          "execution_count": 17
        }
      ]
    },
    {
      "cell_type": "code",
      "source": [
        "from sklearn.preprocessing import LabelEncoder\n",
        "\n",
        "X, y = df.data, df.target\n",
        "le = LabelEncoder()\n",
        "y = le.fit_transform(y)"
      ],
      "metadata": {
        "id": "2vCujlrp2EyL"
      },
      "execution_count": null,
      "outputs": []
    },
    {
      "cell_type": "markdown",
      "source": [
        "Target class ranges from 1-7, we encode it to make it start from 0-6."
      ],
      "metadata": {
        "id": "w-eKGp_gElDW"
      }
    },
    {
      "cell_type": "code",
      "source": [
        "from sklearn.model_selection import train_test_split\n",
        "x_train, x_test, y_train, y_test= train_test_split(X, y, test_size= 0.25, random_state=0)"
      ],
      "metadata": {
        "id": "MR0A8hX92XCy"
      },
      "execution_count": null,
      "outputs": []
    },
    {
      "cell_type": "markdown",
      "source": [
        "## Random forest"
      ],
      "metadata": {
        "id": "peZzYxsqGXFj"
      }
    },
    {
      "cell_type": "code",
      "execution_count": null,
      "metadata": {
        "colab": {
          "base_uri": "https://localhost:8080/"
        },
        "outputId": "a60e62c7-c9c5-44e8-c29c-929ad45e20a7",
        "id": "F7lmk4qcA8QP"
      },
      "outputs": [
        {
          "output_type": "stream",
          "name": "stdout",
          "text": [
            "              precision    recall  f1-score   support\n",
            "\n",
            "           0       0.94      0.96      0.95     51850\n",
            "           1       0.97      0.95      0.96     72623\n",
            "           2       0.96      0.94      0.95      9073\n",
            "           3       0.84      0.91      0.87       650\n",
            "           4       0.77      0.94      0.85      1913\n",
            "           5       0.89      0.93      0.91      4194\n",
            "           6       0.95      0.98      0.96      4950\n",
            "\n",
            "    accuracy                           0.95    145253\n",
            "   macro avg       0.90      0.94      0.92    145253\n",
            "weighted avg       0.95      0.95      0.95    145253\n",
            "\n",
            "Accuracy: 0.9538\n",
            "Random Forest Training time: 89.72248601913452 seconds\n",
            "Random Forest Memory usage: 935.1741440000003 MB\n"
          ]
        }
      ],
      "source": [
        "from sklearn.ensemble import RandomForestClassifier\n",
        "from sklearn.metrics import confusion_matrix\n",
        "from sklearn.metrics import classification_report\n",
        "from sklearn.metrics import accuracy_score\n",
        "import psutil\n",
        "import time\n",
        "\n",
        "classifier= RandomForestClassifier()\n",
        "\n",
        "memory_usage_b = psutil.virtual_memory()[3]/1000000000\n",
        "start_time = time.time()\n",
        "\n",
        "classifier.fit(x_train, y_train)\n",
        "\n",
        "end_time = time.time()\n",
        "memory_usage_a = psutil.virtual_memory()[3]/1000000000\n",
        "\n",
        "training_time = end_time - start_time\n",
        "memory_usage = (memory_usage_a - memory_usage_b)*1000\n",
        "\n",
        "y_pred= classifier.predict(x_test)\n",
        "print(classification_report(y_pred, y_test))\n",
        "\n",
        "accuracy = accuracy_score(y_pred, y_test)\n",
        "\n",
        "print(f\"Accuracy: {accuracy:.4f}\")\n",
        "print(f\"Random Forest Training time: {training_time} seconds\")\n",
        "print(f\"Random Forest Memory usage: {memory_usage} MB\")"
      ]
    },
    {
      "cell_type": "markdown",
      "source": [
        "Confusion matrix"
      ],
      "metadata": {
        "id": "ygApnQAbExC7"
      }
    },
    {
      "cell_type": "code",
      "source": [
        "from sklearn.metrics import confusion_matrix\n",
        "import seaborn as sns\n",
        "import matplotlib.pyplot as plt\n",
        "\n",
        "c_m = confusion_matrix(y_pred, y_test)\n",
        "sns.heatmap(c_m, annot=True, fmt='g')\n",
        "plt.ylabel('Prediction',fontsize=13)\n",
        "plt.xlabel('Actual',fontsize=13)\n",
        "plt.title('Confusion Matrix',fontsize=17)\n",
        "plt.show()"
      ],
      "metadata": {
        "colab": {
          "base_uri": "https://localhost:8080/",
          "height": 481
        },
        "id": "3-7vitXZFFLt",
        "outputId": "a2710fd9-9b12-42c4-d861-6e82ef7da008"
      },
      "execution_count": null,
      "outputs": [
        {
          "output_type": "display_data",
          "data": {
            "text/plain": [
              "<Figure size 640x480 with 2 Axes>"
            ],
            "image/png": "[encoded data removed]"
          },
          "metadata": {}
        }
      ]
    },
    {
      "cell_type": "markdown",
      "source": [
        "Hyperparamter tuning"
      ],
      "metadata": {
        "id": "AZFoXKRJEzyi"
      }
    },
    {
      "cell_type": "code",
      "execution_count": null,
      "metadata": {
        "colab": {
          "base_uri": "https://localhost:8080/"
        },
        "outputId": "25b21563-4504-4251-ac73-92900da2625b",
        "id": "mMbIIOFxE_KZ"
      },
      "outputs": [
        {
          "output_type": "stream",
          "name": "stdout",
          "text": [
            "RandomForestClassifier(n_estimators=150)\n"
          ]
        }
      ],
      "source": [
        "from sklearn.model_selection import GridSearchCV, RandomizedSearchCV\n",
        "\n",
        "param_grid = {\n",
        "    'n_estimators': [50, 100, 150],\n",
        "    'max_features': ['sqrt', 'log2'],\n",
        "    'max_depth': [2, 3, None],\n",
        "    'max_leaf_nodes': [2, 3, None]\n",
        "}\n",
        "\n",
        "grid_search = GridSearchCV(RandomForestClassifier(),\n",
        "                           param_grid=param_grid,\n",
        "                           n_jobs=10)\n",
        "\n",
        "grid_search.fit(x_train, y_train)\n",
        "print(grid_search.best_estimator_)"
      ]
    },
    {
      "cell_type": "markdown",
      "source": [
        "Retrain the model"
      ],
      "metadata": {
        "id": "N_v8tIsXE19z"
      }
    },
    {
      "cell_type": "code",
      "source": [
        "from sklearn.ensemble import RandomForestClassifier\n",
        "from sklearn.metrics import confusion_matrix\n",
        "from sklearn.metrics import classification_report\n",
        "from sklearn.metrics import accuracy_score\n",
        "import psutil\n",
        "import time\n",
        "\n",
        "classifier= grid_search.best_estimator_\n",
        "\n",
        "memory_usage_b = psutil.virtual_memory()[3]/1000000000\n",
        "start_time = time.time()\n",
        "\n",
        "classifier.fit(x_train, y_train)\n",
        "\n",
        "end_time = time.time()\n",
        "memory_usage_a = psutil.virtual_memory()[3]/1000000000\n",
        "\n",
        "training_time = end_time - start_time\n",
        "memory_usage = (memory_usage_a - memory_usage_b)*1000\n",
        "\n",
        "y_pred= classifier.predict(x_test)\n",
        "print(classification_report(y_pred, y_test))\n",
        "\n",
        "accuracy = accuracy_score(y_pred, y_test)\n",
        "\n",
        "print(f\"Accuracy: {accuracy:.4f}\")\n",
        "print(f\"Random Forest Training time: {training_time} seconds\")\n",
        "print(f\"Random Forest Memory usage: {memory_usage} MB\")"
      ],
      "metadata": {
        "colab": {
          "base_uri": "https://localhost:8080/"
        },
        "id": "VT8S6WH79mXE",
        "outputId": "7bf59749-8711-4a0a-8703-135f10b47922"
      },
      "execution_count": null,
      "outputs": [
        {
          "output_type": "stream",
          "name": "stdout",
          "text": [
            "              precision    recall  f1-score   support\n",
            "\n",
            "           0       0.94      0.96      0.95     51806\n",
            "           1       0.97      0.95      0.96     72644\n",
            "           2       0.96      0.94      0.95      9075\n",
            "           3       0.84      0.92      0.88       645\n",
            "           4       0.78      0.95      0.85      1925\n",
            "           5       0.90      0.94      0.92      4202\n",
            "           6       0.95      0.98      0.96      4956\n",
            "\n",
            "    accuracy                           0.95    145253\n",
            "   macro avg       0.91      0.95      0.93    145253\n",
            "weighted avg       0.96      0.95      0.95    145253\n",
            "\n",
            "Accuracy: 0.9544\n",
            "Random Forest Training time: 177.3282651901245 seconds\n",
            "Random Forest Memory usage: 1183.145893214845 MB\n"
          ]
        }
      ]
    },
    {
      "cell_type": "code",
      "source": [
        "c_m = confusion_matrix(y_pred, y_test)\n",
        "sns.heatmap(c_m, annot=True, fmt='g')\n",
        "plt.ylabel('Prediction',fontsize=13)\n",
        "plt.xlabel('Actual',fontsize=13)\n",
        "plt.title('Confusion Matrix',fontsize=17)\n",
        "plt.show()"
      ],
      "metadata": {
        "colab": {
          "base_uri": "https://localhost:8080/",
          "height": 481
        },
        "outputId": "a9c1d23e-86ff-48a3-e8be-b23c324fc878",
        "id": "oOvXEXeNGaMh"
      },
      "execution_count": null,
      "outputs": [
        {
          "output_type": "display_data",
          "data": {
            "text/plain": [
              "<Figure size 640x480 with 2 Axes>"
            ],
            "image/png": "[encoded data removed]"
          },
          "metadata": {}
        }
      ]
    },
    {
      "cell_type": "markdown",
      "source": [
        "## XGBoost"
      ],
      "metadata": {
        "id": "v8u8Gr_QGbAS"
      }
    },
    {
      "cell_type": "code",
      "source": [
        "from xgboost import XGBClassifier\n",
        "from sklearn.metrics import classification_report\n",
        "from sklearn.metrics import accuracy_score\n",
        "import psutil\n",
        "import time\n",
        "\n",
        "classifier= XGBClassifier()\n",
        "\n",
        "memory_usage_b = psutil.virtual_memory()[3]/1000000000\n",
        "start_time = time.time()\n",
        "\n",
        "classifier.fit(x_train, y_train)\n",
        "\n",
        "end_time = time.time()\n",
        "memory_usage_a = psutil.virtual_memory()[3]/1000000000\n",
        "\n",
        "training_time = end_time - start_time\n",
        "memory_usage = (memory_usage_a - memory_usage_b)*1000\n",
        "\n",
        "y_pred= classifier.predict(x_test)\n",
        "print(classification_report(y_pred, y_test))\n",
        "\n",
        "accuracy = accuracy_score(y_pred, y_test)\n",
        "\n",
        "print(f\"Accuracy: {accuracy:.4f}\")\n",
        "print(f\"XGBoost Training time: {training_time} seconds\")\n",
        "print(f\"XGBoost Memory usage: {memory_usage} MB\")"
      ],
      "metadata": {
        "colab": {
          "base_uri": "https://localhost:8080/"
        },
        "outputId": "63bbaa41-b426-48db-915e-26c0f2b0f217",
        "id": "wHgvuidQT1n1"
      },
      "execution_count": null,
      "outputs": [
        {
          "output_type": "stream",
          "name": "stdout",
          "text": [
            "              precision    recall  f1-score   support\n",
            "\n",
            "           0       0.84      0.87      0.85     51462\n",
            "           1       0.90      0.87      0.88     73399\n",
            "           2       0.91      0.90      0.91      8984\n",
            "           3       0.85      0.88      0.87       676\n",
            "           4       0.58      0.88      0.70      1542\n",
            "           5       0.82      0.85      0.83      4221\n",
            "           6       0.92      0.95      0.93      4969\n",
            "\n",
            "    accuracy                           0.87    145253\n",
            "   macro avg       0.83      0.88      0.85    145253\n",
            "weighted avg       0.87      0.87      0.87    145253\n",
            "\n",
            "Accuracy: 0.8716\n",
            "XGBoost Training time: 150.2235882282257 seconds\n",
            "XGBoost Memory usage: 363.8149119999998 MB\n"
          ]
        }
      ]
    },
    {
      "cell_type": "code",
      "source": [
        "from sklearn.metrics import confusion_matrix\n",
        "import seaborn as sns\n",
        "import matplotlib.pyplot as plt\n",
        "\n",
        "c_m = confusion_matrix(y_pred, y_test)\n",
        "sns.heatmap(c_m, annot=True, fmt='g')\n",
        "plt.ylabel('Prediction',fontsize=13)\n",
        "plt.xlabel('Actual',fontsize=13)\n",
        "plt.title('Confusion Matrix',fontsize=17)\n",
        "plt.show()"
      ],
      "metadata": {
        "colab": {
          "base_uri": "https://localhost:8080/",
          "height": 481
        },
        "outputId": "b39f9d8b-915b-4ad4-fa78-06a5ffbc0770",
        "id": "2slQF_YLT1n2"
      },
      "execution_count": null,
      "outputs": [
        {
          "output_type": "display_data",
          "data": {
            "text/plain": [
              "<Figure size 640x480 with 2 Axes>"
            ],
            "image/png": "[encoded data removed]"
          },
          "metadata": {}
        }
      ]
    },
    {
      "cell_type": "code",
      "execution_count": null,
      "metadata": {
        "colab": {
          "base_uri": "https://localhost:8080/"
        },
        "outputId": "343844aa-a290-4d3f-edff-da79089a46b3",
        "id": "LNixnjdDT1n2"
      },
      "outputs": [
        {
          "output_type": "stream",
          "name": "stderr",
          "text": [
            "/usr/local/lib/python3.10/dist-packages/joblib/externals/loky/process_executor.py:752: UserWarning: A worker stopped while some jobs were given to the executor. This can be caused by a too short worker timeout or by a memory leak.\n",
            "  warnings.warn(\n"
          ]
        },
        {
          "output_type": "stream",
          "name": "stdout",
          "text": [
            "XGBClassifier(base_score=None, booster=None, callbacks=None,\n",
            "              colsample_bylevel=None, colsample_bynode=None,\n",
            "              colsample_bytree=None, device=None, early_stopping_rounds=None,\n",
            "              enable_categorical=False, eval_metric=None, feature_types=None,\n",
            "              gamma=None, grow_policy=None, importance_type=None,\n",
            "              interaction_constraints=None, learning_rate=None, max_bin=None,\n",
            "              max_cat_threshold=None, max_cat_to_onehot=None,\n",
            "              max_delta_step=None, max_depth=None, max_leaves=None,\n",
            "              min_child_weight=None, missing=nan, monotone_constraints=None,\n",
            "              multi_strategy=None, n_estimators=150, n_jobs=None,\n",
            "              num_parallel_tree=None, objective='multi:softprob', ...)\n"
          ]
        }
      ],
      "source": [
        "from sklearn.model_selection import GridSearchCV, RandomizedSearchCV\n",
        "from xgboost import XGBClassifier\n",
        "\n",
        "params = {\n",
        "    \"colsample_bytree\": [0.5, None],\n",
        "    \"gamma\": [0.2, None],\n",
        "    \"learning_rate\": [0.9, None],\n",
        "    \"max_depth\": [15, None],\n",
        "    \"n_estimators\": [100, 150, None],\n",
        "    \"subsample\": [0.9, None]\n",
        "}\n",
        "\n",
        "grid_search = GridSearchCV(XGBClassifier(),\n",
        "                           param_grid=params,\n",
        "                           n_jobs=10)\n",
        "\n",
        "grid_search.fit(x_train, y_train)\n",
        "print(grid_search.best_estimator_)"
      ]
    },
    {
      "cell_type": "code",
      "execution_count": null,
      "metadata": {
        "colab": {
          "base_uri": "https://localhost:8080/"
        },
        "outputId": "73cd7563-515b-4152-d932-e58d97f2396f",
        "id": "AQsOBz8pT1n2"
      },
      "outputs": [
        {
          "output_type": "stream",
          "name": "stdout",
          "text": [
            "              precision    recall  f1-score   support\n",
            "\n",
            "           0       0.97      0.97      0.97     52821\n",
            "           1       0.98      0.97      0.97     71233\n",
            "           2       0.97      0.96      0.97      8915\n",
            "           3       0.88      0.92      0.90       674\n",
            "           4       0.89      0.93      0.91      2246\n",
            "           5       0.94      0.95      0.94      4312\n",
            "           6       0.97      0.97      0.97      5052\n",
            "\n",
            "    accuracy                           0.97    145253\n",
            "   macro avg       0.94      0.95      0.95    145253\n",
            "weighted avg       0.97      0.97      0.97    145253\n",
            "\n",
            "Accuracy: 0.9700\n",
            "XGBoost Training time: 221.32602381706238 seconds\n",
            "XGBoost Memory usage: 445.9429680000002 MB\n"
          ]
        }
      ],
      "source": [
        "# Define and train the XGBoost model\n",
        "classifier = grid_search.best_estimator_\n",
        "\n",
        "memory_usage_b = psutil.virtual_memory()[3]/1000000000\n",
        "start_time = time.time()\n",
        "\n",
        "classifier.fit(x_train, y_train)\n",
        "\n",
        "end_time = time.time()\n",
        "memory_usage_a = psutil.virtual_memory()[3]/1000000000\n",
        "\n",
        "training_time = end_time - start_time\n",
        "memory_usage = (memory_usage_a - memory_usage_b)*1000\n",
        "\n",
        "y_pred= classifier.predict(x_test)\n",
        "print(classification_report(y_pred, y_test))\n",
        "\n",
        "accuracy = accuracy_score(y_pred, y_test)\n",
        "\n",
        "print(f\"Accuracy: {accuracy:.4f}\")\n",
        "print(f\"XGBoost Training time: {training_time} seconds\")\n",
        "print(f\"XGBoost Memory usage: {memory_usage} MB\")"
      ]
    },
    {
      "cell_type": "code",
      "source": [
        "c_m = confusion_matrix(y_pred, y_test)\n",
        "sns.heatmap(c_m, annot=True, fmt='g')\n",
        "plt.ylabel('Prediction',fontsize=13)\n",
        "plt.xlabel('Actual',fontsize=13)\n",
        "plt.title('Confusion Matrix',fontsize=17)\n",
        "plt.show()"
      ],
      "metadata": {
        "colab": {
          "base_uri": "https://localhost:8080/",
          "height": 481
        },
        "outputId": "86a8b340-968b-4fbe-bfc1-64c09e544055",
        "id": "R_9yQ6KDT1n2"
      },
      "execution_count": null,
      "outputs": [
        {
          "output_type": "display_data",
          "data": {
            "text/plain": [
              "<Figure size 640x480 with 2 Axes>"
            ],
            "image/png": "[encoded data removed]"
          },
          "metadata": {}
        }
      ]
    }
  ],
  "metadata": {
    "colab": {
      "provenance": [],
      "mount_file_id": "1O8Q9J3hIY2E72rPXVg1Fn03Hea_R_OUv",
      "authorship_tag": "ABX9TyOW84lEcwBlG7MTKYwgkrkC",
      "include_colab_link": true
    },
    "kernelspec": {
      "display_name": "Python 3",
      "name": "python3"
    },
    "language_info": {
      "name": "python"
    }
  },
  "nbformat": 4,
  "nbformat_minor": 0
}