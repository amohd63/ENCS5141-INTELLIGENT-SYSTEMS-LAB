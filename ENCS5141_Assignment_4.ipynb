{
  "nbformat": 4,
  "nbformat_minor": 0,
  "metadata": {
    "colab": {
      "provenance": [],
      "gpuType": "T4",
      "authorship_tag": "ABX9TyNBilGuiuwE7I6afQf33EBM",
      "include_colab_link": true
    },
    "kernelspec": {
      "name": "python3",
      "display_name": "Python 3"
    },
    "language_info": {
      "name": "python"
    },
    "accelerator": "GPU"
  },
  "cells": [
    {
      "cell_type": "markdown",
      "metadata": {
        "id": "view-in-github",
        "colab_type": "text"
      },
      "source": [
        "<a href=\"https://colab.research.google.com/github/amohd63/ENCS5141-INTELLIGENT-SYSTEMS-LAB/blob/main/ENCS5141_Assignment_4.ipynb\" target=\"_parent\"><img src=\"https://colab.research.google.com/assets/colab-badge.svg\" alt=\"Open In Colab\"/></a>"
      ]
    },
    {
      "cell_type": "code",
      "source": [
        "A = 1\n",
        "B = 9\n",
        "C = 0\n",
        "D = 5\n",
        "Y = 0\n",
        "X = 2\n",
        "ABC = 190\n",
        "\n",
        "tau = (1 + A + B + C + D + Y) / 7  # Threshold"
      ],
      "metadata": {
        "id": "e80svNQ-5NlJ"
      },
      "execution_count": 1,
      "outputs": []
    },
    {
      "cell_type": "code",
      "source": [
        "import torch\n",
        "import torch.nn as nn\n",
        "import torch.optim as optim\n",
        "import torchvision.transforms as transforms\n",
        "from torch.utils.data import DataLoader\n",
        "from torchvision.datasets import MNIST\n",
        "import matplotlib.pyplot as plt\n",
        "import numpy as np\n",
        "import torch\n",
        "import torch.nn as nn\n",
        "import torch.nn.functional as F\n",
        "\n",
        "class CustomCNN(nn.Module):\n",
        "  def __init__(self):\n",
        "    super().__init__()\n",
        "    self.conv1 = nn.Conv2d(1, X + 4, kernel_size=3)\n",
        "    self.pool1 = nn.AvgPool2d(2, stride=2)\n",
        "\n",
        "    self.conv2 = nn.Conv2d(X + 4, Y + 15, kernel_size=3)\n",
        "    self.pool2 = nn.AvgPool2d(2, stride=2)\n",
        "\n",
        "    self.fc1 = nn.Linear((Y + 15) * 5 * 5, 190)\n",
        "\n",
        "    self.fc2 = nn.Linear(190, 16)\n",
        "\n",
        "    self.fc3 = nn.Linear(16, 1)\n",
        "\n",
        "  def forward(self, x):\n",
        "    x = self.pool1(F.relu(self.conv1(x)))\n",
        "    x = self.pool2(F.relu(self.conv2(x)))\n",
        "    x = torch.flatten(x, 1) # flatten all dimensions except batch\n",
        "    x = F.relu(self.fc1(x))\n",
        "    x = F.relu(self.fc2(x))\n",
        "    x = F.sigmoid(self.fc3(x))\n",
        "\n",
        "    return x"
      ],
      "metadata": {
        "id": "hZ4fdQM6xXoJ"
      },
      "execution_count": 2,
      "outputs": []
    },
    {
      "cell_type": "code",
      "source": [
        "# Load MNIST dataset\n",
        "transform = transforms.Compose([transforms.ToTensor()])\n",
        "train_dataset = MNIST(root='./data', train=True, transform=transform, download=True)\n",
        "test_dataset = MNIST(root='./data', train=False, transform=transform, download=True)\n",
        "\n",
        "# Create data loaders\n",
        "train_loader = DataLoader(dataset=train_dataset, batch_size=8, shuffle=True)\n",
        "test_loader = DataLoader(dataset=test_dataset, batch_size=8, shuffle=False)"
      ],
      "metadata": {
        "colab": {
          "base_uri": "https://localhost:8080/"
        },
        "id": "h59oM-9i5a0A",
        "outputId": "89c41f81-3ebd-48ea-9436-93dd987eefad"
      },
      "execution_count": 3,
      "outputs": [
        {
          "output_type": "stream",
          "name": "stdout",
          "text": [
            "Downloading http://yann.lecun.com/exdb/mnist/train-images-idx3-ubyte.gz\n",
            "Downloading http://yann.lecun.com/exdb/mnist/train-images-idx3-ubyte.gz to ./data/MNIST/raw/train-images-idx3-ubyte.gz\n"
          ]
        },
        {
          "output_type": "stream",
          "name": "stderr",
          "text": [
            "100%|██████████| 9912422/9912422 [00:00<00:00, 370249719.43it/s]"
          ]
        },
        {
          "output_type": "stream",
          "name": "stdout",
          "text": [
            "Extracting ./data/MNIST/raw/train-images-idx3-ubyte.gz to ./data/MNIST/raw\n"
          ]
        },
        {
          "output_type": "stream",
          "name": "stderr",
          "text": [
            "\n"
          ]
        },
        {
          "output_type": "stream",
          "name": "stdout",
          "text": [
            "\n",
            "Downloading http://yann.lecun.com/exdb/mnist/train-labels-idx1-ubyte.gz\n",
            "Downloading http://yann.lecun.com/exdb/mnist/train-labels-idx1-ubyte.gz to ./data/MNIST/raw/train-labels-idx1-ubyte.gz\n"
          ]
        },
        {
          "output_type": "stream",
          "name": "stderr",
          "text": [
            "100%|██████████| 28881/28881 [00:00<00:00, 54664121.76it/s]\n"
          ]
        },
        {
          "output_type": "stream",
          "name": "stdout",
          "text": [
            "Extracting ./data/MNIST/raw/train-labels-idx1-ubyte.gz to ./data/MNIST/raw\n",
            "\n",
            "Downloading http://yann.lecun.com/exdb/mnist/t10k-images-idx3-ubyte.gz\n",
            "Downloading http://yann.lecun.com/exdb/mnist/t10k-images-idx3-ubyte.gz to ./data/MNIST/raw/t10k-images-idx3-ubyte.gz\n"
          ]
        },
        {
          "output_type": "stream",
          "name": "stderr",
          "text": [
            "100%|██████████| 1648877/1648877 [00:00<00:00, 206087710.73it/s]"
          ]
        },
        {
          "output_type": "stream",
          "name": "stdout",
          "text": [
            "Extracting ./data/MNIST/raw/t10k-images-idx3-ubyte.gz to ./data/MNIST/raw\n",
            "\n",
            "Downloading http://yann.lecun.com/exdb/mnist/t10k-labels-idx1-ubyte.gz\n"
          ]
        },
        {
          "output_type": "stream",
          "name": "stderr",
          "text": [
            "\n"
          ]
        },
        {
          "output_type": "stream",
          "name": "stdout",
          "text": [
            "Downloading http://yann.lecun.com/exdb/mnist/t10k-labels-idx1-ubyte.gz to ./data/MNIST/raw/t10k-labels-idx1-ubyte.gz\n"
          ]
        },
        {
          "output_type": "stream",
          "name": "stderr",
          "text": [
            "100%|██████████| 4542/4542 [00:00<00:00, 8990339.20it/s]\n"
          ]
        },
        {
          "output_type": "stream",
          "name": "stdout",
          "text": [
            "Extracting ./data/MNIST/raw/t10k-labels-idx1-ubyte.gz to ./data/MNIST/raw\n",
            "\n"
          ]
        }
      ]
    },
    {
      "cell_type": "code",
      "source": [
        "# Instantiate the model, loss function, and optimizer\n",
        "model = CustomCNN()\n",
        "criterion = nn.BCELoss()\n",
        "optimizer = optim.Adam(model.parameters(), lr=0.0005)"
      ],
      "metadata": {
        "id": "CY1ksUnm7RNr"
      },
      "execution_count": 4,
      "outputs": []
    },
    {
      "cell_type": "code",
      "source": [
        "# Move model and data to GPU if available\n",
        "device = torch.device('cuda' if torch.cuda.is_available() else 'cpu')\n",
        "model.to(device)\n",
        "\n",
        "# Training loop\n",
        "num_epochs = 3\n",
        "train_accuracies = []\n",
        "\n",
        "for epoch in range(num_epochs):\n",
        "    model.train()\n",
        "    total_correct = 0\n",
        "    total_samples = 0\n",
        "\n",
        "    for batch_idx, (data, labels) in enumerate(train_loader):\n",
        "        data, labels = data.to(device), labels.to(device)\n",
        "        optimizer.zero_grad()\n",
        "        outputs = model(data)\n",
        "        labels_binary = (labels > tau).float()\n",
        "        loss = criterion(outputs, labels_binary.view(-1, 1))\n",
        "        loss.backward()\n",
        "        optimizer.step()\n",
        "\n",
        "        predictions = (outputs > 0.5).float()\n",
        "\n",
        "        total_correct += (predictions == labels_binary.view(-1, 1)).sum().item()\n",
        "        total_samples += labels.size(0)\n",
        "\n",
        "        if (batch_idx + 1) % 2000 == 0:\n",
        "            print(f'Epoch [{epoch + 1}/{num_epochs}], Step [{batch_idx + 1}/{len(train_loader)}], Loss: {loss.item():.4f}')\n",
        "\n",
        "    train_accuracy = total_correct / total_samples\n",
        "    train_accuracies.append(train_accuracy)\n",
        "    print(f'Training Accuracy after Epoch {epoch + 1}: {train_accuracy:.4f}')"
      ],
      "metadata": {
        "colab": {
          "base_uri": "https://localhost:8080/"
        },
        "id": "PLx3KF_n7RRR",
        "outputId": "0269ac04-7ff2-4f90-a278-3c0a8b36721e"
      },
      "execution_count": 5,
      "outputs": [
        {
          "output_type": "stream",
          "name": "stdout",
          "text": [
            "Epoch [1/3], Step [2000/7500], Loss: 0.0247\n",
            "Epoch [1/3], Step [4000/7500], Loss: 0.2823\n",
            "Epoch [1/3], Step [6000/7500], Loss: 0.0857\n",
            "Training Accuracy after Epoch 1: 0.9638\n",
            "Epoch [2/3], Step [2000/7500], Loss: 0.0013\n",
            "Epoch [2/3], Step [4000/7500], Loss: 0.7210\n",
            "Epoch [2/3], Step [6000/7500], Loss: 0.0048\n",
            "Training Accuracy after Epoch 2: 0.9897\n",
            "Epoch [3/3], Step [2000/7500], Loss: 0.0002\n",
            "Epoch [3/3], Step [4000/7500], Loss: 0.0010\n",
            "Epoch [3/3], Step [6000/7500], Loss: 0.0059\n",
            "Training Accuracy after Epoch 3: 0.9928\n"
          ]
        }
      ]
    },
    {
      "cell_type": "code",
      "source": [
        "# Plot training accuracy vs. epoch curve\n",
        "plt.plot(range(1, num_epochs + 1), train_accuracies, marker='o')\n",
        "plt.title('Training Accuracy vs. Epoch')\n",
        "plt.xlabel('Epoch')\n",
        "plt.ylabel('Training Accuracy')\n",
        "plt.show()"
      ],
      "metadata": {
        "colab": {
          "base_uri": "https://localhost:8080/",
          "height": 489
        },
        "id": "xXFLvxa47XPr",
        "outputId": "6533dab1-6469-4361-d092-1bbe1995e93e"
      },
      "execution_count": 19,
      "outputs": [
        {
          "output_type": "display_data",
          "data": {
            "text/plain": [
              "<Figure size 640x480 with 1 Axes>"
            ],
            "image/png": "[encoded data removed]"
          },
          "metadata": {}
        },
        {
          "output_type": "stream",
          "name": "stdout",
          "text": [
            "Test Accuracy: 0.9918\n"
          ]
        }
      ]
    },
    {
      "cell_type": "code",
      "source": [
        "# Evaluation on the test set\n",
        "model.eval()\n",
        "test_correct = 0\n",
        "test_total = 0\n",
        "misclassified_images = []\n",
        "\n",
        "with torch.no_grad():\n",
        "    for data, labels in test_loader:\n",
        "        data, labels = data.to(device), labels.to(device)\n",
        "        outputs = model(data)\n",
        "        predictions = (outputs > 0.5).float()\n",
        "        test_correct += (predictions == (labels > tau).float().view(-1, 1)).sum().item()\n",
        "        test_total += labels.size(0)\n",
        "\n",
        "        # Track misclassified images\n",
        "        for i in range(len(labels)):\n",
        "            if predictions[i] != (labels[i] > tau).float():\n",
        "                misclassified_images.append((data[i].cpu(), labels[i], predictions[i].item()))\n",
        "\n",
        "test_accuracy = test_correct / test_total\n",
        "print(f'Test Accuracy: {test_accuracy:.4f}')"
      ],
      "metadata": {
        "colab": {
          "base_uri": "https://localhost:8080/"
        },
        "id": "85rfX9tr9Yh2",
        "outputId": "a44ec96f-3663-4589-a1e5-c2d7713f05cc"
      },
      "execution_count": 20,
      "outputs": [
        {
          "output_type": "stream",
          "name": "stdout",
          "text": [
            "Test Accuracy: 0.9918\n"
          ]
        }
      ]
    },
    {
      "cell_type": "code",
      "source": [
        "fig, axes = plt.subplots(1, 4, figsize=(12, 3))\n",
        "for i, (image, true_label, predicted_label) in enumerate(misclassified_images[:4]):\n",
        "    axes[i].imshow(image[0], cmap='gray')\n",
        "    axes[i].set_title(f'Pred: {predicted_label}\\nActual: {true_label}')\n",
        "    axes[i].axis('off')\n",
        "\n",
        "plt.show()"
      ],
      "metadata": {
        "colab": {
          "base_uri": "https://localhost:8080/",
          "height": 282
        },
        "id": "7ACZrrvtyHdu",
        "outputId": "6d0ffb75-65bf-482e-e851-5b37b481d76b"
      },
      "execution_count": 21,
      "outputs": [
        {
          "output_type": "display_data",
          "data": {
            "text/plain": [
              "<Figure size 1200x300 with 4 Axes>"
            ],
            "image/png": "[encoded data removed]"
          },
          "metadata": {}
        }
      ]
    }
  ]
}