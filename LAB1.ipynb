{
  "nbformat": 4,
  "nbformat_minor": 0,
  "metadata": {
    "colab": {
      "provenance": [],
      "collapsed_sections": [
        "_gOLGHasGR_j",
        "MO2ZUKxQG_LM",
        "MaSZ70n2Hgam",
        "SIWWUb-NHmlM",
        "L8BFTYaCHwVL",
        "EpHSvxbMH3Wk",
        "NRrZUeZOJCbv",
        "v7BOqapWJPUX",
        "pV3WThXbJgdt",
        "jeAYMlezJz53",
        "6h5YuP8rLD32",
        "2EAWReu_LiuJ",
        "ulkUnkKIL2rz"
      ],
      "authorship_tag": "ABX9TyMhpHN/1VpktkLmbCYWuaRM",
      "include_colab_link": true
    },
    "kernelspec": {
      "name": "python3",
      "display_name": "Python 3"
    },
    "language_info": {
      "name": "python"
    }
  },
  "cells": [
    {
      "cell_type": "markdown",
      "metadata": {
        "id": "view-in-github",
        "colab_type": "text"
      },
      "source": [
        "<a href=\"https://colab.research.google.com/github/amohd63/INTELLIGENT-SYSTEMS-LAB/blob/main/LAB1.ipynb\" target=\"_parent\"><img src=\"https://colab.research.google.com/assets/colab-badge.svg\" alt=\"Open In Colab\"/></a>"
      ]
    },
    {
      "cell_type": "markdown",
      "source": [
        "#  Series and DataFrames"
      ],
      "metadata": {
        "id": "sjqD2KsRHNIl"
      }
    },
    {
      "cell_type": "markdown",
      "source": [
        "\n",
        "## Pandas Series"
      ],
      "metadata": {
        "id": "_gOLGHasGR_j"
      }
    },
    {
      "cell_type": "markdown",
      "source": [
        "Example 1: Create a simple Pandas Series from a list"
      ],
      "metadata": {
        "id": "8IbAy3nAMxwN"
      }
    },
    {
      "cell_type": "code",
      "execution_count": null,
      "metadata": {
        "colab": {
          "base_uri": "https://localhost:8080/"
        },
        "id": "q4b9gLwDGEhy",
        "outputId": "22b0aa7e-f86c-49fd-b096-016e15727585"
      },
      "outputs": [
        {
          "output_type": "stream",
          "name": "stdout",
          "text": [
            "0    1\n",
            "1    7\n",
            "2    2\n",
            "dtype: int64\n"
          ]
        }
      ],
      "source": [
        "import pandas as pd\n",
        "\n",
        "# create a simple list\n",
        "a = [1, 7, 2]\n",
        "\n",
        "# create series from a list\n",
        "my_Series = pd.Series(a)\n",
        "\n",
        "print(my_Series)"
      ]
    },
    {
      "cell_type": "markdown",
      "source": [
        "Example 2: Create a simple Pandas Series from a dictionary"
      ],
      "metadata": {
        "id": "t4PfRyM2Gp31"
      }
    },
    {
      "cell_type": "code",
      "source": [
        "import pandas as pd\n",
        "\n",
        "# a simple dictionary\n",
        "calories = {\"day1\": 420, \"day2\": 380, \"day3\": 390}\n",
        "\n",
        "# create series from dictionary\n",
        "my_Series = pd.Series(calories)\n",
        "\n",
        "print(my_Series)"
      ],
      "metadata": {
        "colab": {
          "base_uri": "https://localhost:8080/"
        },
        "id": "E6p944GfGri7",
        "outputId": "282de9e4-3ac6-4937-d7e6-a056013aeab0"
      },
      "execution_count": 5,
      "outputs": [
        {
          "output_type": "stream",
          "name": "stdout",
          "text": [
            "day1    420\n",
            "day2    380\n",
            "day3    390\n",
            "dtype: int64\n"
          ]
        }
      ]
    },
    {
      "cell_type": "markdown",
      "source": [
        "## Pandas DataFrame\n",
        "Example 3: Create a DataFrame from a Series"
      ],
      "metadata": {
        "id": "MO2ZUKxQG_LM"
      }
    },
    {
      "cell_type": "code",
      "source": [
        "import pandas as pd\n",
        "\n",
        "# Initialize data to a series.\n",
        "d = pd.Series([10, 20, 30, 40])\n",
        "\n",
        "# creates Dataframe.\n",
        "df = pd.DataFrame(d)\n",
        "\n",
        "# print the data.\n",
        "print(df)"
      ],
      "metadata": {
        "colab": {
          "base_uri": "https://localhost:8080/"
        },
        "id": "dXkfGeWXHFKa",
        "outputId": "6c78822c-a006-4f59-ebf3-1882d7d8d744"
      },
      "execution_count": 6,
      "outputs": [
        {
          "output_type": "stream",
          "name": "stdout",
          "text": [
            "    0\n",
            "0  10\n",
            "1  20\n",
            "2  30\n",
            "3  40\n"
          ]
        }
      ]
    },
    {
      "cell_type": "markdown",
      "source": [
        "Example 4: Creating DataFrame from a Dictionary of lists"
      ],
      "metadata": {
        "id": "B5ORROwVHTSd"
      }
    },
    {
      "cell_type": "code",
      "source": [
        "import pandas as pd\n",
        "\n",
        "# initialize the data of lists.\n",
        "data = {'Name': ['Ahmad', 'Ali', 'Omar', 'Hamzah'],\n",
        "        'Age': [20, 21, 19, 18]}\n",
        "\n",
        "# Create DataFrame\n",
        "df = pd.DataFrame(data)\n",
        "\n",
        "# Print the output.\n",
        "print(df)"
      ],
      "metadata": {
        "id": "E_1x37gtHUOz",
        "colab": {
          "base_uri": "https://localhost:8080/"
        },
        "outputId": "b4818cce-3e5a-4f7d-fc05-5f27fa9f1fa4"
      },
      "execution_count": 7,
      "outputs": [
        {
          "output_type": "stream",
          "name": "stdout",
          "text": [
            "     Name  Age\n",
            "0   Ahmad   20\n",
            "1     Ali   21\n",
            "2    Omar   19\n",
            "3  Hamzah   18\n"
          ]
        }
      ]
    },
    {
      "cell_type": "markdown",
      "source": [
        "Example 5: Creating dataframe from two series"
      ],
      "metadata": {
        "id": "V7FhDkirHVnv"
      }
    },
    {
      "cell_type": "code",
      "source": [
        "import pandas as pd\n",
        "\n",
        "data = {\n",
        "  \"calories\": [420, 380, 390],\n",
        "  \"duration\": [50, 40, 45]\n",
        "}\n",
        "\n",
        "myvar = pd.DataFrame(data)\n",
        "print(myvar)"
      ],
      "metadata": {
        "id": "6jPaWWYVHYM-",
        "colab": {
          "base_uri": "https://localhost:8080/"
        },
        "outputId": "ebcc3583-3133-406f-b74d-e663eb9873e6"
      },
      "execution_count": 8,
      "outputs": [
        {
          "output_type": "stream",
          "name": "stdout",
          "text": [
            "   calories  duration\n",
            "0       420        50\n",
            "1       380        40\n",
            "2       390        45\n"
          ]
        }
      ]
    },
    {
      "cell_type": "markdown",
      "source": [
        "Example 6: Load a CSV file named data.csv into a DataFrame"
      ],
      "metadata": {
        "id": "sd8_iPwNHcqv"
      }
    },
    {
      "cell_type": "code",
      "source": [
        "import pandas as pd\n",
        "\n",
        "df = pd.read_csv('data.csv')\n",
        "print(df)"
      ],
      "metadata": {
        "id": "gZPuFGFrHesU"
      },
      "execution_count": null,
      "outputs": []
    },
    {
      "cell_type": "markdown",
      "source": [
        "# Exploring DataFrames"
      ],
      "metadata": {
        "id": "MaSZ70n2Hgam"
      }
    },
    {
      "cell_type": "markdown",
      "source": [
        "## Viewing your data"
      ],
      "metadata": {
        "id": "SIWWUb-NHmlM"
      }
    },
    {
      "cell_type": "markdown",
      "source": [
        "Example 7: using .head() function to print the first five rows of the data set"
      ],
      "metadata": {
        "id": "BAer_khiOthm"
      }
    },
    {
      "cell_type": "code",
      "source": [
        "import pandas as pd\n",
        "\n",
        "df = pd.read_csv('data.csv')\n",
        "print(df.head())\n"
      ],
      "metadata": {
        "id": "YNQIUXlaHq7T"
      },
      "execution_count": null,
      "outputs": []
    },
    {
      "cell_type": "markdown",
      "source": [
        "Example 8: using .tail() function to print the last five rows of the data set\n"
      ],
      "metadata": {
        "id": "h5ZLvhvqHsb7"
      }
    },
    {
      "cell_type": "code",
      "source": [
        "import pandas as pd\n",
        "\n",
        "df = pd.read_csv('data.csv')\n",
        "print(df.tail())\n"
      ],
      "metadata": {
        "id": "HQSJ5hEWHvDU"
      },
      "execution_count": null,
      "outputs": []
    },
    {
      "cell_type": "markdown",
      "source": [
        "## DataFrame Shape"
      ],
      "metadata": {
        "id": "L8BFTYaCHwVL"
      }
    },
    {
      "cell_type": "markdown",
      "source": [
        "Example 9: printing the shape of the dataframe"
      ],
      "metadata": {
        "id": "7XAtlFwWHzKt"
      }
    },
    {
      "cell_type": "code",
      "source": [
        "import pandas as pd\n",
        "\n",
        "df = pd.read_csv('data.csv')\n",
        "print(df.shape)"
      ],
      "metadata": {
        "id": "AoQGRgDxH1DE"
      },
      "execution_count": null,
      "outputs": []
    },
    {
      "cell_type": "markdown",
      "source": [
        "## Information About the Data"
      ],
      "metadata": {
        "id": "EpHSvxbMH3Wk"
      }
    },
    {
      "cell_type": "markdown",
      "source": [
        "Example 10: using .info() function"
      ],
      "metadata": {
        "id": "7nFkl9Q6H4YW"
      }
    },
    {
      "cell_type": "code",
      "source": [
        "import pandas as pd\n",
        "\n",
        "df = pd.read_csv('data.csv')\n",
        "print(df.info())"
      ],
      "metadata": {
        "id": "Y6xNd-OQH5YO"
      },
      "execution_count": null,
      "outputs": []
    },
    {
      "cell_type": "markdown",
      "source": [
        "# DataFrames Indexing"
      ],
      "metadata": {
        "id": "DkIGbSEtH8c9"
      }
    },
    {
      "cell_type": "markdown",
      "source": [
        "we will create the following DataFrame to explore the effects of\n",
        "various dataframe indexing methods"
      ],
      "metadata": {
        "id": "3b8EWCuoH9cK"
      }
    },
    {
      "cell_type": "code",
      "source": [
        "import pandas as pd\n",
        "\n",
        "df = pd.DataFrame({'col_1': list(range(1, 11)),\n",
        "                   'col_2': list(range(11, 21)),\n",
        "                   'col_3': list(range(21, 31)),\n",
        "                   'col_4': list(range(31, 41)),\n",
        "                   'col_5': list(range(41, 51)),\n",
        "                   'col_6': list(range(51, 61)),\n",
        "                   'col_7': list(range(61, 71)),\n",
        "                   'col_8': list(range(71, 81)),\n",
        "                   'col_9': list(range(81, 91))})\n",
        "\n",
        "print(df)"
      ],
      "metadata": {
        "id": "M85pPMGIIE9b",
        "colab": {
          "base_uri": "https://localhost:8080/"
        },
        "outputId": "b2a4bb1f-e7ba-41e9-ae37-4132fc7ff2df"
      },
      "execution_count": 9,
      "outputs": [
        {
          "output_type": "stream",
          "name": "stdout",
          "text": [
            "   col_1  col_2  col_3  col_4  col_5  col_6  col_7  col_8  col_9\n",
            "0      1     11     21     31     41     51     61     71     81\n",
            "1      2     12     22     32     42     52     62     72     82\n",
            "2      3     13     23     33     43     53     63     73     83\n",
            "3      4     14     24     34     44     54     64     74     84\n",
            "4      5     15     25     35     45     55     65     75     85\n",
            "5      6     16     26     36     46     56     66     76     86\n",
            "6      7     17     27     37     47     57     67     77     87\n",
            "7      8     18     28     38     48     58     68     78     88\n",
            "8      9     19     29     39     49     59     69     79     89\n",
            "9     10     20     30     40     50     60     70     80     90\n"
          ]
        }
      ]
    },
    {
      "cell_type": "markdown",
      "source": [
        "## Label-based Dataframe Indexing"
      ],
      "metadata": {
        "id": "81oow9fbIJZR"
      }
    },
    {
      "cell_type": "markdown",
      "source": [
        "Using the indexing operator"
      ],
      "metadata": {
        "id": "CleR2v51IKdG"
      }
    },
    {
      "cell_type": "code",
      "source": [
        "print(df.columns)\n",
        "print(df.index)"
      ],
      "metadata": {
        "id": "xbgmU-C8IaMq",
        "colab": {
          "base_uri": "https://localhost:8080/"
        },
        "outputId": "d323eb0f-f5da-45e9-88c5-cc54b3141384"
      },
      "execution_count": 12,
      "outputs": [
        {
          "output_type": "stream",
          "name": "stdout",
          "text": [
            "Index(['col_1', 'col_2', 'col_3', 'col_4', 'col_5', 'col_6', 'col_7', 'col_8',\n",
            "       'col_9'],\n",
            "      dtype='object')\n",
            "RangeIndex(start=0, stop=10, step=1)\n"
          ]
        }
      ]
    },
    {
      "cell_type": "markdown",
      "source": [
        "Example 11: printing the second column using the label indexing operator."
      ],
      "metadata": {
        "id": "Mi1HAc9ZISgW"
      }
    },
    {
      "cell_type": "code",
      "source": [
        "print(df['col_2'])"
      ],
      "metadata": {
        "id": "8MkobWiCIdQf",
        "colab": {
          "base_uri": "https://localhost:8080/"
        },
        "outputId": "3796b723-6834-4f6f-baae-c07ba1324721"
      },
      "execution_count": 13,
      "outputs": [
        {
          "output_type": "stream",
          "name": "stdout",
          "text": [
            "0    11\n",
            "1    12\n",
            "2    13\n",
            "3    14\n",
            "4    15\n",
            "5    16\n",
            "6    17\n",
            "7    18\n",
            "8    19\n",
            "9    20\n",
            "Name: col_2, dtype: int64\n"
          ]
        }
      ]
    },
    {
      "cell_type": "markdown",
      "source": [
        "try to run the following and see what is returned"
      ],
      "metadata": {
        "id": "2ov_iiAFIfIP"
      }
    },
    {
      "cell_type": "code",
      "source": [
        "print(df[['col_5', 'col_1', 'col_8']])"
      ],
      "metadata": {
        "id": "mnmQQSGjIheb",
        "colab": {
          "base_uri": "https://localhost:8080/"
        },
        "outputId": "21869838-8c37-4824-dfa1-a7e5623e3334"
      },
      "execution_count": 21,
      "outputs": [
        {
          "output_type": "stream",
          "name": "stdout",
          "text": [
            "        col_5  col_1  col_8\n",
            "row_1      41      1     71\n",
            "row_2      42      2     72\n",
            "row_3      43      3     73\n",
            "row_4      44      4     74\n",
            "row_5      45      5     75\n",
            "row_6      46      6     76\n",
            "row_7      47      7     77\n",
            "row_8      48      8     78\n",
            "row_9      49      9     79\n",
            "row_10     50     10     80\n"
          ]
        }
      ]
    },
    {
      "cell_type": "code",
      "source": [
        "print(df[['col_5', 'col_1', 'col_8', 'col_100']])"
      ],
      "metadata": {
        "colab": {
          "base_uri": "https://localhost:8080/",
          "height": 322
        },
        "id": "e-awfJouQbc7",
        "outputId": "2fb77469-3476-431c-d3d0-04bf983bf660"
      },
      "execution_count": 22,
      "outputs": [
        {
          "output_type": "error",
          "ename": "KeyError",
          "evalue": "ignored",
          "traceback": [
            "\u001b[0;31m---------------------------------------------------------------------------\u001b[0m",
            "\u001b[0;31mKeyError\u001b[0m                                  Traceback (most recent call last)",
            "\u001b[0;32m<ipython-input-22-d9916b233e44>\u001b[0m in \u001b[0;36m<cell line: 1>\u001b[0;34m()\u001b[0m\n\u001b[0;32m----> 1\u001b[0;31m \u001b[0mprint\u001b[0m\u001b[0;34m(\u001b[0m\u001b[0mdf\u001b[0m\u001b[0;34m[\u001b[0m\u001b[0;34m[\u001b[0m\u001b[0;34m'col_5'\u001b[0m\u001b[0;34m,\u001b[0m \u001b[0;34m'col_1'\u001b[0m\u001b[0;34m,\u001b[0m \u001b[0;34m'col_8'\u001b[0m\u001b[0;34m,\u001b[0m \u001b[0;34m'col_100'\u001b[0m\u001b[0;34m]\u001b[0m\u001b[0;34m]\u001b[0m\u001b[0;34m)\u001b[0m\u001b[0;34m\u001b[0m\u001b[0;34m\u001b[0m\u001b[0m\n\u001b[0m",
            "\u001b[0;32m/usr/local/lib/python3.10/dist-packages/pandas/core/frame.py\u001b[0m in \u001b[0;36m__getitem__\u001b[0;34m(self, key)\u001b[0m\n\u001b[1;32m   3811\u001b[0m             \u001b[0;32mif\u001b[0m \u001b[0mis_iterator\u001b[0m\u001b[0;34m(\u001b[0m\u001b[0mkey\u001b[0m\u001b[0;34m)\u001b[0m\u001b[0;34m:\u001b[0m\u001b[0;34m\u001b[0m\u001b[0;34m\u001b[0m\u001b[0m\n\u001b[1;32m   3812\u001b[0m                 \u001b[0mkey\u001b[0m \u001b[0;34m=\u001b[0m \u001b[0mlist\u001b[0m\u001b[0;34m(\u001b[0m\u001b[0mkey\u001b[0m\u001b[0;34m)\u001b[0m\u001b[0;34m\u001b[0m\u001b[0;34m\u001b[0m\u001b[0m\n\u001b[0;32m-> 3813\u001b[0;31m             \u001b[0mindexer\u001b[0m \u001b[0;34m=\u001b[0m \u001b[0mself\u001b[0m\u001b[0;34m.\u001b[0m\u001b[0mcolumns\u001b[0m\u001b[0;34m.\u001b[0m\u001b[0m_get_indexer_strict\u001b[0m\u001b[0;34m(\u001b[0m\u001b[0mkey\u001b[0m\u001b[0;34m,\u001b[0m \u001b[0;34m\"columns\"\u001b[0m\u001b[0;34m)\u001b[0m\u001b[0;34m[\u001b[0m\u001b[0;36m1\u001b[0m\u001b[0;34m]\u001b[0m\u001b[0;34m\u001b[0m\u001b[0;34m\u001b[0m\u001b[0m\n\u001b[0m\u001b[1;32m   3814\u001b[0m \u001b[0;34m\u001b[0m\u001b[0m\n\u001b[1;32m   3815\u001b[0m         \u001b[0;31m# take() does not accept boolean indexers\u001b[0m\u001b[0;34m\u001b[0m\u001b[0;34m\u001b[0m\u001b[0m\n",
            "\u001b[0;32m/usr/local/lib/python3.10/dist-packages/pandas/core/indexes/base.py\u001b[0m in \u001b[0;36m_get_indexer_strict\u001b[0;34m(self, key, axis_name)\u001b[0m\n\u001b[1;32m   6068\u001b[0m             \u001b[0mkeyarr\u001b[0m\u001b[0;34m,\u001b[0m \u001b[0mindexer\u001b[0m\u001b[0;34m,\u001b[0m \u001b[0mnew_indexer\u001b[0m \u001b[0;34m=\u001b[0m \u001b[0mself\u001b[0m\u001b[0;34m.\u001b[0m\u001b[0m_reindex_non_unique\u001b[0m\u001b[0;34m(\u001b[0m\u001b[0mkeyarr\u001b[0m\u001b[0;34m)\u001b[0m\u001b[0;34m\u001b[0m\u001b[0;34m\u001b[0m\u001b[0m\n\u001b[1;32m   6069\u001b[0m \u001b[0;34m\u001b[0m\u001b[0m\n\u001b[0;32m-> 6070\u001b[0;31m         \u001b[0mself\u001b[0m\u001b[0;34m.\u001b[0m\u001b[0m_raise_if_missing\u001b[0m\u001b[0;34m(\u001b[0m\u001b[0mkeyarr\u001b[0m\u001b[0;34m,\u001b[0m \u001b[0mindexer\u001b[0m\u001b[0;34m,\u001b[0m \u001b[0maxis_name\u001b[0m\u001b[0;34m)\u001b[0m\u001b[0;34m\u001b[0m\u001b[0;34m\u001b[0m\u001b[0m\n\u001b[0m\u001b[1;32m   6071\u001b[0m \u001b[0;34m\u001b[0m\u001b[0m\n\u001b[1;32m   6072\u001b[0m         \u001b[0mkeyarr\u001b[0m \u001b[0;34m=\u001b[0m \u001b[0mself\u001b[0m\u001b[0;34m.\u001b[0m\u001b[0mtake\u001b[0m\u001b[0;34m(\u001b[0m\u001b[0mindexer\u001b[0m\u001b[0;34m)\u001b[0m\u001b[0;34m\u001b[0m\u001b[0;34m\u001b[0m\u001b[0m\n",
            "\u001b[0;32m/usr/local/lib/python3.10/dist-packages/pandas/core/indexes/base.py\u001b[0m in \u001b[0;36m_raise_if_missing\u001b[0;34m(self, key, indexer, axis_name)\u001b[0m\n\u001b[1;32m   6131\u001b[0m \u001b[0;34m\u001b[0m\u001b[0m\n\u001b[1;32m   6132\u001b[0m             \u001b[0mnot_found\u001b[0m \u001b[0;34m=\u001b[0m \u001b[0mlist\u001b[0m\u001b[0;34m(\u001b[0m\u001b[0mensure_index\u001b[0m\u001b[0;34m(\u001b[0m\u001b[0mkey\u001b[0m\u001b[0;34m)\u001b[0m\u001b[0;34m[\u001b[0m\u001b[0mmissing_mask\u001b[0m\u001b[0;34m.\u001b[0m\u001b[0mnonzero\u001b[0m\u001b[0;34m(\u001b[0m\u001b[0;34m)\u001b[0m\u001b[0;34m[\u001b[0m\u001b[0;36m0\u001b[0m\u001b[0;34m]\u001b[0m\u001b[0;34m]\u001b[0m\u001b[0;34m.\u001b[0m\u001b[0munique\u001b[0m\u001b[0;34m(\u001b[0m\u001b[0;34m)\u001b[0m\u001b[0;34m)\u001b[0m\u001b[0;34m\u001b[0m\u001b[0;34m\u001b[0m\u001b[0m\n\u001b[0;32m-> 6133\u001b[0;31m             \u001b[0;32mraise\u001b[0m \u001b[0mKeyError\u001b[0m\u001b[0;34m(\u001b[0m\u001b[0;34mf\"{not_found} not in index\"\u001b[0m\u001b[0;34m)\u001b[0m\u001b[0;34m\u001b[0m\u001b[0;34m\u001b[0m\u001b[0m\n\u001b[0m\u001b[1;32m   6134\u001b[0m \u001b[0;34m\u001b[0m\u001b[0m\n\u001b[1;32m   6135\u001b[0m     \u001b[0;34m@\u001b[0m\u001b[0moverload\u001b[0m\u001b[0;34m\u001b[0m\u001b[0;34m\u001b[0m\u001b[0m\n",
            "\u001b[0;31mKeyError\u001b[0m: \"['col_100'] not in index\""
          ]
        }
      ]
    },
    {
      "cell_type": "markdown",
      "source": [
        "Using the loc indexer"
      ],
      "metadata": {
        "id": "fFvFcF8JIkrI"
      }
    },
    {
      "cell_type": "markdown",
      "source": [
        "Example 12: selecting the values of the first row of the DataFrame using the loc indexer"
      ],
      "metadata": {
        "id": "WMnsFGi5ImiI"
      }
    },
    {
      "cell_type": "code",
      "source": [
        "print(df.loc[0])"
      ],
      "metadata": {
        "id": "z-4-s0q3Ipl1",
        "colab": {
          "base_uri": "https://localhost:8080/"
        },
        "outputId": "9a37dfad-f51e-4d5e-8339-225b17b33865"
      },
      "execution_count": 18,
      "outputs": [
        {
          "output_type": "stream",
          "name": "stdout",
          "text": [
            "col_1     1\n",
            "col_2    11\n",
            "col_3    21\n",
            "col_4    31\n",
            "col_5    41\n",
            "col_6    51\n",
            "col_7    61\n",
            "col_8    71\n",
            "col_9    81\n",
            "Name: 0, dtype: int64\n"
          ]
        }
      ]
    },
    {
      "cell_type": "markdown",
      "source": [
        "However, for our further experiments with the loc indexer, let's rename the row labels to something more meaningful and of a string data type:"
      ],
      "metadata": {
        "id": "jHDMrKyEItYr"
      }
    },
    {
      "cell_type": "code",
      "source": [
        "df.index = ['row_1', 'row_2', 'row_3', 'row_4', 'row_5', 'row_6', 'row_7', 'row_8', 'row_9', 'row_10']"
      ],
      "metadata": {
        "id": "006zyDdoIuwx"
      },
      "execution_count": 19,
      "outputs": []
    },
    {
      "cell_type": "markdown",
      "source": [
        "Now try to run the following samples and figure out what returns:"
      ],
      "metadata": {
        "id": "VEU_xUdbIym_"
      }
    },
    {
      "cell_type": "code",
      "source": [
        "print(df.loc[['row_6', 'row_2', 'row_9']])"
      ],
      "metadata": {
        "id": "oJBMVWSGI0F2",
        "colab": {
          "base_uri": "https://localhost:8080/"
        },
        "outputId": "fe1f241d-ca8a-4c7a-f077-892430d67caf"
      },
      "execution_count": 23,
      "outputs": [
        {
          "output_type": "stream",
          "name": "stdout",
          "text": [
            "       col_1  col_2  col_3  col_4  col_5  col_6  col_7  col_8  col_9\n",
            "row_6      6     16     26     36     46     56     66     76     86\n",
            "row_2      2     12     22     32     42     52     62     72     82\n",
            "row_9      9     19     29     39     49     59     69     79     89\n"
          ]
        }
      ]
    },
    {
      "cell_type": "code",
      "source": [
        "print(df.loc[['row_6', 'row_2', 'row_9', 'row_100']])"
      ],
      "metadata": {
        "colab": {
          "base_uri": "https://localhost:8080/",
          "height": 322
        },
        "id": "_-gdK9EyQfB9",
        "outputId": "7695380e-1b29-4b4b-ee12-ad80f77a446e"
      },
      "execution_count": 24,
      "outputs": [
        {
          "output_type": "error",
          "ename": "KeyError",
          "evalue": "ignored",
          "traceback": [
            "\u001b[0;31m---------------------------------------------------------------------------\u001b[0m",
            "\u001b[0;31mKeyError\u001b[0m                                  Traceback (most recent call last)",
            "\u001b[0;32m<ipython-input-24-8b6524a0ac9d>\u001b[0m in \u001b[0;36m<cell line: 1>\u001b[0;34m()\u001b[0m\n\u001b[0;32m----> 1\u001b[0;31m \u001b[0mprint\u001b[0m\u001b[0;34m(\u001b[0m\u001b[0mdf\u001b[0m\u001b[0;34m.\u001b[0m\u001b[0mloc\u001b[0m\u001b[0;34m[\u001b[0m\u001b[0;34m[\u001b[0m\u001b[0;34m'row_6'\u001b[0m\u001b[0;34m,\u001b[0m \u001b[0;34m'row_2'\u001b[0m\u001b[0;34m,\u001b[0m \u001b[0;34m'row_9'\u001b[0m\u001b[0;34m,\u001b[0m \u001b[0;34m'row_100'\u001b[0m\u001b[0;34m]\u001b[0m\u001b[0;34m]\u001b[0m\u001b[0;34m)\u001b[0m\u001b[0;34m\u001b[0m\u001b[0;34m\u001b[0m\u001b[0m\n\u001b[0m",
            "\u001b[0;32m/usr/local/lib/python3.10/dist-packages/pandas/core/indexing.py\u001b[0m in \u001b[0;36m__getitem__\u001b[0;34m(self, key)\u001b[0m\n\u001b[1;32m   1071\u001b[0m \u001b[0;34m\u001b[0m\u001b[0m\n\u001b[1;32m   1072\u001b[0m             \u001b[0mmaybe_callable\u001b[0m \u001b[0;34m=\u001b[0m \u001b[0mcom\u001b[0m\u001b[0;34m.\u001b[0m\u001b[0mapply_if_callable\u001b[0m\u001b[0;34m(\u001b[0m\u001b[0mkey\u001b[0m\u001b[0;34m,\u001b[0m \u001b[0mself\u001b[0m\u001b[0;34m.\u001b[0m\u001b[0mobj\u001b[0m\u001b[0;34m)\u001b[0m\u001b[0;34m\u001b[0m\u001b[0;34m\u001b[0m\u001b[0m\n\u001b[0;32m-> 1073\u001b[0;31m             \u001b[0;32mreturn\u001b[0m \u001b[0mself\u001b[0m\u001b[0;34m.\u001b[0m\u001b[0m_getitem_axis\u001b[0m\u001b[0;34m(\u001b[0m\u001b[0mmaybe_callable\u001b[0m\u001b[0;34m,\u001b[0m \u001b[0maxis\u001b[0m\u001b[0;34m=\u001b[0m\u001b[0maxis\u001b[0m\u001b[0;34m)\u001b[0m\u001b[0;34m\u001b[0m\u001b[0;34m\u001b[0m\u001b[0m\n\u001b[0m\u001b[1;32m   1074\u001b[0m \u001b[0;34m\u001b[0m\u001b[0m\n\u001b[1;32m   1075\u001b[0m     \u001b[0;32mdef\u001b[0m \u001b[0m_is_scalar_access\u001b[0m\u001b[0;34m(\u001b[0m\u001b[0mself\u001b[0m\u001b[0;34m,\u001b[0m \u001b[0mkey\u001b[0m\u001b[0;34m:\u001b[0m \u001b[0mtuple\u001b[0m\u001b[0;34m)\u001b[0m\u001b[0;34m:\u001b[0m\u001b[0;34m\u001b[0m\u001b[0;34m\u001b[0m\u001b[0m\n",
            "\u001b[0;32m/usr/local/lib/python3.10/dist-packages/pandas/core/indexing.py\u001b[0m in \u001b[0;36m_getitem_axis\u001b[0;34m(self, key, axis)\u001b[0m\n\u001b[1;32m   1299\u001b[0m                     \u001b[0;32mraise\u001b[0m \u001b[0mValueError\u001b[0m\u001b[0;34m(\u001b[0m\u001b[0;34m\"Cannot index with multidimensional key\"\u001b[0m\u001b[0;34m)\u001b[0m\u001b[0;34m\u001b[0m\u001b[0;34m\u001b[0m\u001b[0m\n\u001b[1;32m   1300\u001b[0m \u001b[0;34m\u001b[0m\u001b[0m\n\u001b[0;32m-> 1301\u001b[0;31m                 \u001b[0;32mreturn\u001b[0m \u001b[0mself\u001b[0m\u001b[0;34m.\u001b[0m\u001b[0m_getitem_iterable\u001b[0m\u001b[0;34m(\u001b[0m\u001b[0mkey\u001b[0m\u001b[0;34m,\u001b[0m \u001b[0maxis\u001b[0m\u001b[0;34m=\u001b[0m\u001b[0maxis\u001b[0m\u001b[0;34m)\u001b[0m\u001b[0;34m\u001b[0m\u001b[0;34m\u001b[0m\u001b[0m\n\u001b[0m\u001b[1;32m   1302\u001b[0m \u001b[0;34m\u001b[0m\u001b[0m\n\u001b[1;32m   1303\u001b[0m             \u001b[0;31m# nested tuple slicing\u001b[0m\u001b[0;34m\u001b[0m\u001b[0;34m\u001b[0m\u001b[0m\n",
            "\u001b[0;32m/usr/local/lib/python3.10/dist-packages/pandas/core/indexing.py\u001b[0m in \u001b[0;36m_getitem_iterable\u001b[0;34m(self, key, axis)\u001b[0m\n\u001b[1;32m   1237\u001b[0m \u001b[0;34m\u001b[0m\u001b[0m\n\u001b[1;32m   1238\u001b[0m         \u001b[0;31m# A collection of keys\u001b[0m\u001b[0;34m\u001b[0m\u001b[0;34m\u001b[0m\u001b[0m\n\u001b[0;32m-> 1239\u001b[0;31m         \u001b[0mkeyarr\u001b[0m\u001b[0;34m,\u001b[0m \u001b[0mindexer\u001b[0m \u001b[0;34m=\u001b[0m \u001b[0mself\u001b[0m\u001b[0;34m.\u001b[0m\u001b[0m_get_listlike_indexer\u001b[0m\u001b[0;34m(\u001b[0m\u001b[0mkey\u001b[0m\u001b[0;34m,\u001b[0m \u001b[0maxis\u001b[0m\u001b[0;34m)\u001b[0m\u001b[0;34m\u001b[0m\u001b[0;34m\u001b[0m\u001b[0m\n\u001b[0m\u001b[1;32m   1240\u001b[0m         return self.obj._reindex_with_indexers(\n\u001b[1;32m   1241\u001b[0m             \u001b[0;34m{\u001b[0m\u001b[0maxis\u001b[0m\u001b[0;34m:\u001b[0m \u001b[0;34m[\u001b[0m\u001b[0mkeyarr\u001b[0m\u001b[0;34m,\u001b[0m \u001b[0mindexer\u001b[0m\u001b[0;34m]\u001b[0m\u001b[0;34m}\u001b[0m\u001b[0;34m,\u001b[0m \u001b[0mcopy\u001b[0m\u001b[0;34m=\u001b[0m\u001b[0;32mTrue\u001b[0m\u001b[0;34m,\u001b[0m \u001b[0mallow_dups\u001b[0m\u001b[0;34m=\u001b[0m\u001b[0;32mTrue\u001b[0m\u001b[0;34m\u001b[0m\u001b[0;34m\u001b[0m\u001b[0m\n",
            "\u001b[0;32m/usr/local/lib/python3.10/dist-packages/pandas/core/indexing.py\u001b[0m in \u001b[0;36m_get_listlike_indexer\u001b[0;34m(self, key, axis)\u001b[0m\n\u001b[1;32m   1430\u001b[0m         \u001b[0maxis_name\u001b[0m \u001b[0;34m=\u001b[0m \u001b[0mself\u001b[0m\u001b[0;34m.\u001b[0m\u001b[0mobj\u001b[0m\u001b[0;34m.\u001b[0m\u001b[0m_get_axis_name\u001b[0m\u001b[0;34m(\u001b[0m\u001b[0maxis\u001b[0m\u001b[0;34m)\u001b[0m\u001b[0;34m\u001b[0m\u001b[0;34m\u001b[0m\u001b[0m\n\u001b[1;32m   1431\u001b[0m \u001b[0;34m\u001b[0m\u001b[0m\n\u001b[0;32m-> 1432\u001b[0;31m         \u001b[0mkeyarr\u001b[0m\u001b[0;34m,\u001b[0m \u001b[0mindexer\u001b[0m \u001b[0;34m=\u001b[0m \u001b[0max\u001b[0m\u001b[0;34m.\u001b[0m\u001b[0m_get_indexer_strict\u001b[0m\u001b[0;34m(\u001b[0m\u001b[0mkey\u001b[0m\u001b[0;34m,\u001b[0m \u001b[0maxis_name\u001b[0m\u001b[0;34m)\u001b[0m\u001b[0;34m\u001b[0m\u001b[0;34m\u001b[0m\u001b[0m\n\u001b[0m\u001b[1;32m   1433\u001b[0m \u001b[0;34m\u001b[0m\u001b[0m\n\u001b[1;32m   1434\u001b[0m         \u001b[0;32mreturn\u001b[0m \u001b[0mkeyarr\u001b[0m\u001b[0;34m,\u001b[0m \u001b[0mindexer\u001b[0m\u001b[0;34m\u001b[0m\u001b[0;34m\u001b[0m\u001b[0m\n",
            "\u001b[0;32m/usr/local/lib/python3.10/dist-packages/pandas/core/indexes/base.py\u001b[0m in \u001b[0;36m_get_indexer_strict\u001b[0;34m(self, key, axis_name)\u001b[0m\n\u001b[1;32m   6068\u001b[0m             \u001b[0mkeyarr\u001b[0m\u001b[0;34m,\u001b[0m \u001b[0mindexer\u001b[0m\u001b[0;34m,\u001b[0m \u001b[0mnew_indexer\u001b[0m \u001b[0;34m=\u001b[0m \u001b[0mself\u001b[0m\u001b[0;34m.\u001b[0m\u001b[0m_reindex_non_unique\u001b[0m\u001b[0;34m(\u001b[0m\u001b[0mkeyarr\u001b[0m\u001b[0;34m)\u001b[0m\u001b[0;34m\u001b[0m\u001b[0;34m\u001b[0m\u001b[0m\n\u001b[1;32m   6069\u001b[0m \u001b[0;34m\u001b[0m\u001b[0m\n\u001b[0;32m-> 6070\u001b[0;31m         \u001b[0mself\u001b[0m\u001b[0;34m.\u001b[0m\u001b[0m_raise_if_missing\u001b[0m\u001b[0;34m(\u001b[0m\u001b[0mkeyarr\u001b[0m\u001b[0;34m,\u001b[0m \u001b[0mindexer\u001b[0m\u001b[0;34m,\u001b[0m \u001b[0maxis_name\u001b[0m\u001b[0;34m)\u001b[0m\u001b[0;34m\u001b[0m\u001b[0;34m\u001b[0m\u001b[0m\n\u001b[0m\u001b[1;32m   6071\u001b[0m \u001b[0;34m\u001b[0m\u001b[0m\n\u001b[1;32m   6072\u001b[0m         \u001b[0mkeyarr\u001b[0m \u001b[0;34m=\u001b[0m \u001b[0mself\u001b[0m\u001b[0;34m.\u001b[0m\u001b[0mtake\u001b[0m\u001b[0;34m(\u001b[0m\u001b[0mindexer\u001b[0m\u001b[0;34m)\u001b[0m\u001b[0;34m\u001b[0m\u001b[0;34m\u001b[0m\u001b[0m\n",
            "\u001b[0;32m/usr/local/lib/python3.10/dist-packages/pandas/core/indexes/base.py\u001b[0m in \u001b[0;36m_raise_if_missing\u001b[0;34m(self, key, indexer, axis_name)\u001b[0m\n\u001b[1;32m   6131\u001b[0m \u001b[0;34m\u001b[0m\u001b[0m\n\u001b[1;32m   6132\u001b[0m             \u001b[0mnot_found\u001b[0m \u001b[0;34m=\u001b[0m \u001b[0mlist\u001b[0m\u001b[0;34m(\u001b[0m\u001b[0mensure_index\u001b[0m\u001b[0;34m(\u001b[0m\u001b[0mkey\u001b[0m\u001b[0;34m)\u001b[0m\u001b[0;34m[\u001b[0m\u001b[0mmissing_mask\u001b[0m\u001b[0;34m.\u001b[0m\u001b[0mnonzero\u001b[0m\u001b[0;34m(\u001b[0m\u001b[0;34m)\u001b[0m\u001b[0;34m[\u001b[0m\u001b[0;36m0\u001b[0m\u001b[0;34m]\u001b[0m\u001b[0;34m]\u001b[0m\u001b[0;34m.\u001b[0m\u001b[0munique\u001b[0m\u001b[0;34m(\u001b[0m\u001b[0;34m)\u001b[0m\u001b[0;34m)\u001b[0m\u001b[0;34m\u001b[0m\u001b[0;34m\u001b[0m\u001b[0m\n\u001b[0;32m-> 6133\u001b[0;31m             \u001b[0;32mraise\u001b[0m \u001b[0mKeyError\u001b[0m\u001b[0;34m(\u001b[0m\u001b[0;34mf\"{not_found} not in index\"\u001b[0m\u001b[0;34m)\u001b[0m\u001b[0;34m\u001b[0m\u001b[0;34m\u001b[0m\u001b[0m\n\u001b[0m\u001b[1;32m   6134\u001b[0m \u001b[0;34m\u001b[0m\u001b[0m\n\u001b[1;32m   6135\u001b[0m     \u001b[0;34m@\u001b[0m\u001b[0moverload\u001b[0m\u001b[0;34m\u001b[0m\u001b[0;34m\u001b[0m\u001b[0m\n",
            "\u001b[0;31mKeyError\u001b[0m: \"['row_100'] not in index\""
          ]
        }
      ]
    },
    {
      "cell_type": "code",
      "source": [
        "print(df.loc['row_7':'row_9'])"
      ],
      "metadata": {
        "colab": {
          "base_uri": "https://localhost:8080/"
        },
        "id": "jSrOUsl7QgDU",
        "outputId": "c809ba02-0957-4e61-ba3b-f859e1d6b6e1"
      },
      "execution_count": 25,
      "outputs": [
        {
          "output_type": "stream",
          "name": "stdout",
          "text": [
            "       col_1  col_2  col_3  col_4  col_5  col_6  col_7  col_8  col_9\n",
            "row_7      7     17     27     37     47     57     67     77     87\n",
            "row_8      8     18     28     38     48     58     68     78     88\n",
            "row_9      9     19     29     39     49     59     69     79     89\n"
          ]
        }
      ]
    },
    {
      "cell_type": "markdown",
      "source": [
        "**Task 1: Print the first 4 rows using the slicing method.**"
      ],
      "metadata": {
        "id": "EipV8MaCI3X1"
      }
    },
    {
      "cell_type": "code",
      "source": [
        "print(df.loc['row_1':'row_4'])"
      ],
      "metadata": {
        "colab": {
          "base_uri": "https://localhost:8080/"
        },
        "id": "eU-90RebQsUB",
        "outputId": "d5e2020a-e98a-4cb1-fe32-28050ddcb881"
      },
      "execution_count": 29,
      "outputs": [
        {
          "output_type": "stream",
          "name": "stdout",
          "text": [
            "       col_1  col_2  col_3  col_4  col_5  col_6  col_7  col_8  col_9\n",
            "row_1      1     11     21     31     41     51     61     71     81\n",
            "row_2      2     12     22     32     42     52     62     72     82\n",
            "row_3      3     13     23     33     43     53     63     73     83\n",
            "row_4      4     14     24     34     44     54     64     74     84\n"
          ]
        }
      ]
    },
    {
      "cell_type": "markdown",
      "source": [
        "**Task 2: Print the last row with columns from col_5 to col_7.**"
      ],
      "metadata": {
        "id": "YV4Xb0eBQtgc"
      }
    },
    {
      "cell_type": "code",
      "source": [
        "print(df[['col_5', 'col_6', 'col_7']].loc['row_9'])"
      ],
      "metadata": {
        "id": "D7tQ8XO_I35h",
        "colab": {
          "base_uri": "https://localhost:8080/"
        },
        "outputId": "e9961000-5613-4b42-d950-8996aab28813"
      },
      "execution_count": 42,
      "outputs": [
        {
          "output_type": "stream",
          "name": "stdout",
          "text": [
            "col_5    49\n",
            "col_6    59\n",
            "col_7    69\n",
            "Name: row_9, dtype: int64\n"
          ]
        }
      ]
    },
    {
      "cell_type": "code",
      "source": [
        "print(df.loc['row_9', 'col_5':'col_7'])"
      ],
      "metadata": {
        "colab": {
          "base_uri": "https://localhost:8080/"
        },
        "id": "8GLbmhcYW1us",
        "outputId": "f74bef36-0d8b-44e2-ebdf-e25f3a6bdf5b"
      },
      "execution_count": 43,
      "outputs": [
        {
          "output_type": "stream",
          "name": "stdout",
          "text": [
            "col_5    49\n",
            "col_6    59\n",
            "col_7    69\n",
            "Name: row_9, dtype: int64\n"
          ]
        }
      ]
    },
    {
      "cell_type": "markdown",
      "source": [
        "Using the at indexer"
      ],
      "metadata": {
        "id": "KP7fkQnkJAOl"
      }
    },
    {
      "cell_type": "code",
      "source": [
        "df.at['row_6', 'col_3']"
      ],
      "metadata": {
        "id": "HNH-ZJqQJAzo",
        "colab": {
          "base_uri": "https://localhost:8080/"
        },
        "outputId": "384b93c5-1aba-4975-bd9e-4ac0097e0621"
      },
      "execution_count": 44,
      "outputs": [
        {
          "output_type": "execute_result",
          "data": {
            "text/plain": [
              "26"
            ]
          },
          "metadata": {},
          "execution_count": 44
        }
      ]
    },
    {
      "cell_type": "markdown",
      "source": [
        "## Position-based Dataframe Indexing"
      ],
      "metadata": {
        "id": "NRrZUeZOJCbv"
      }
    },
    {
      "cell_type": "markdown",
      "source": [
        "Try to run the following samples and figure out what returns:"
      ],
      "metadata": {
        "id": "yrmW2mthJJBr"
      }
    },
    {
      "cell_type": "code",
      "source": [
        "print(df[3:6])\n",
        "print(df.iloc[3])\n",
        "print(df.iloc[[9, 8, 7]])\n",
        "print(df.iloc[0, [2, 8, 3]])\n",
        "Print(df.iat[1, 2])"
      ],
      "metadata": {
        "id": "9Yr4OuwcJKNF"
      },
      "execution_count": null,
      "outputs": []
    },
    {
      "cell_type": "markdown",
      "source": [
        "Task 3: Use iloc with position-based indexing to select rows 8, and 1 and columns 5 to 9.\n",
        "\n",
        "Task 4: Use iloc with position-based indexing to select all rows and columns 1, 3, and 7.\n"
      ],
      "metadata": {
        "id": "o1VZPl1fJL4P"
      }
    },
    {
      "cell_type": "code",
      "source": [],
      "metadata": {
        "id": "FYc2-zS6JO-u"
      },
      "execution_count": null,
      "outputs": []
    },
    {
      "cell_type": "markdown",
      "source": [
        "## Boolean Dataframe Indexing"
      ],
      "metadata": {
        "id": "v7BOqapWJPUX"
      }
    },
    {
      "cell_type": "markdown",
      "source": [
        "Task 5: Selecting all the rows of the dataframe where the value of col_2 is NOT greater than 15\n",
        "\n",
        "Task 6: Selecting all the rows of the dataframe where the value of col_2 is greater than 15 but not equal to 19"
      ],
      "metadata": {
        "id": "wMzT63GCJStC"
      }
    },
    {
      "cell_type": "code",
      "source": [],
      "metadata": {
        "id": "S3nYZam2JWUm"
      },
      "execution_count": null,
      "outputs": []
    },
    {
      "cell_type": "markdown",
      "source": [
        "# Saving Dataframe to CSV file"
      ],
      "metadata": {
        "id": "pV3WThXbJgdt"
      }
    },
    {
      "cell_type": "markdown",
      "source": [
        "The syntax for using the .to_csv() method is as follows"
      ],
      "metadata": {
        "id": "KRVEUrWMJn7Z"
      }
    },
    {
      "cell_type": "code",
      "source": [
        "DataFrame.to_csv(filename, sep=',', index=False, encoding='utf-8')"
      ],
      "metadata": {
        "id": "8Gpvu9vjJpfL"
      },
      "execution_count": null,
      "outputs": []
    },
    {
      "cell_type": "markdown",
      "source": [
        "Example 13: Saving a DataFrame to a CSV file"
      ],
      "metadata": {
        "id": "lbdw8bsCJt86"
      }
    },
    {
      "cell_type": "code",
      "source": [
        "import pandas as pd\n",
        "# Create a sample dataframe\n",
        "Biodata = {'Name': ['Ahmad', 'Ali', 'Omar', 'Hamzah'],\n",
        "'Age': [28, 23, 35, 31],\n",
        "'Gender': ['M', 'F', 'M', 'F']\n",
        "}\n",
        "df = pd.DataFrame(Biodata)\n",
        "# Save the dataframe to a CSV file\n",
        "df.to_csv('Biodata.csv', index=False)"
      ],
      "metadata": {
        "id": "hJA_7o7lJvSP"
      },
      "execution_count": null,
      "outputs": []
    },
    {
      "cell_type": "markdown",
      "source": [
        "Task 7: Save the above dataframe using tab-separated values"
      ],
      "metadata": {
        "id": "Kcl84-_QJwux"
      }
    },
    {
      "cell_type": "code",
      "source": [],
      "metadata": {
        "id": "_3_UB71fJyas"
      },
      "execution_count": null,
      "outputs": []
    },
    {
      "cell_type": "markdown",
      "source": [
        "# Dealing with Rows and Columns in Panda's DataFrame"
      ],
      "metadata": {
        "id": "jeAYMlezJz53"
      }
    },
    {
      "cell_type": "markdown",
      "source": [
        "## Column Addition"
      ],
      "metadata": {
        "id": "M7TYTDviJ7OX"
      }
    },
    {
      "cell_type": "markdown",
      "source": [
        "Example 14: Column addition using the basic method"
      ],
      "metadata": {
        "id": "qLc8mvVgJ80j"
      }
    },
    {
      "cell_type": "code",
      "source": [
        "import pandas as pd\n",
        "# Define a dictionary containing Students data\n",
        "data = {'Name': ['Ahmad', 'Ali', 'Omar', 'Hamzah'],\n",
        "      'Height': [5.1, 6.2, 5.1, 5.2],\n",
        "      'Qualification': ['Msc', 'MA', 'Msc', 'Msc']}\n",
        "# Convert the dictionary into DataFrame\n",
        "df = pd.DataFrame(data)\n",
        "print(df)\n",
        "# Declare a list that is to be converted into a column\n",
        "address = ['Delhi', 'Bangalore', 'Chennai', 'Patna']\n",
        "# Using 'Address' as the column name and equating it to the list\n",
        "df['Address'] = address\n",
        "# Observe the result\n",
        "print(df)\n"
      ],
      "metadata": {
        "id": "dFCmIzAsJ-Gk"
      },
      "execution_count": null,
      "outputs": []
    },
    {
      "cell_type": "markdown",
      "source": [
        "Task 8: Add a new column (on the dataframe above) named Age with the following values [21, 23, 24, 21] and make it the third column.\n"
      ],
      "metadata": {
        "id": "iaLyQdEYKDl1"
      }
    },
    {
      "cell_type": "code",
      "source": [],
      "metadata": {
        "id": "2F3lZONPKE6z"
      },
      "execution_count": null,
      "outputs": []
    },
    {
      "cell_type": "markdown",
      "source": [
        "## Column Deletion"
      ],
      "metadata": {
        "id": "SzamTf8_KFgD"
      }
    },
    {
      "cell_type": "markdown",
      "source": [
        "Example 15: Deleting a column\n"
      ],
      "metadata": {
        "id": "WnawlzHXKKeC"
      }
    },
    {
      "cell_type": "code",
      "source": [
        "import pandas as pd\n",
        "# Define a dictionary containing Students data\n",
        "data = {'Name': ['Ahmad', 'Ali', 'Omar', 'Hamzah'],\n",
        "        'Height': [5.1, 6.2, 5.1, 5.2],\n",
        "        'Qualification': ['Msc', 'MA', 'Msc', 'Msc'],\n",
        "        'Age': [21, 23, 24, 21]}\n",
        "# Convert the dictionary into DataFrame\n",
        "df = pd.DataFrame(data)\n",
        "print(df)\n",
        "# dropping passed columns\n",
        "df1 = df.drop([\"Height\"], axis = 1)\n",
        "# Observe the result\n",
        "print(df)\n",
        "print(df1)\n",
        "\n"
      ],
      "metadata": {
        "id": "D09LfLCDKLrV"
      },
      "execution_count": null,
      "outputs": []
    },
    {
      "cell_type": "markdown",
      "source": [
        "Task 9: Remove column Height and column Age from the existing referring dataframe."
      ],
      "metadata": {
        "id": "24duqlKTKSQz"
      }
    },
    {
      "cell_type": "code",
      "source": [],
      "metadata": {
        "id": "Ke40V1jRKT3S"
      },
      "execution_count": null,
      "outputs": []
    },
    {
      "cell_type": "markdown",
      "source": [
        "## Adding new row to DataFrame"
      ],
      "metadata": {
        "id": "hUKlcunNKXSc"
      }
    },
    {
      "cell_type": "markdown",
      "source": [
        "Example 14: Adding a new row to the end of the Pandas DataFrame."
      ],
      "metadata": {
        "id": "21OSj5JvKYhi"
      }
    },
    {
      "cell_type": "code",
      "source": [
        "import pandas as pd\n",
        "technologies= {\n",
        "              'Courses':[\"Spark\",\"PySpark\",\"Hadoop\",\"Python\",\"Pandas\"],\n",
        "              'Fee' :[22000,25000,23000,24000,26000],\n",
        "              'Duration':['30days','50days','35days', '40days','55days'],\n",
        "              'Discount':[1000,2300,1000,1200,2500]\n",
        "}\n",
        "df = pd.DataFrame(technologies)\n",
        "print(df)\n",
        "# New list to append Row to DataFrame\n",
        "list = [\"Hyperion\", 27000, \"60days\", 2000]\n",
        "df.loc[len(df)] = list\n",
        "print(df)\n"
      ],
      "metadata": {
        "id": "EpYHwzzqKaqJ"
      },
      "execution_count": null,
      "outputs": []
    },
    {
      "cell_type": "markdown",
      "source": [
        "Task 10: use .iloc to insert the new row above into the second position of the DataFrame."
      ],
      "metadata": {
        "id": "2XZ2I90ZKeo9"
      }
    },
    {
      "cell_type": "code",
      "source": [],
      "metadata": {
        "id": "5LaVn4L6Kgms"
      },
      "execution_count": null,
      "outputs": []
    },
    {
      "cell_type": "markdown",
      "source": [
        "## Deleting row From DataFrame"
      ],
      "metadata": {
        "id": "lNIHkLVPKiVo"
      }
    },
    {
      "cell_type": "markdown",
      "source": [
        "import pandas as pd\n",
        "import numpy as np\n",
        "technologies = {\n",
        "'Courses':[\"Spark\",\"PySpark\",\"Hadoop\",\"Python\"],\n",
        "'Fee' :[20000,25000,26000,22000],\n",
        "'Duration':['30day','40days',np.nan, None],\n",
        "'Discount':[1000,2300,1500,1200]\n",
        "}\n",
        "indexes=['r1','r2','r3','r4']\n",
        "df = pd.DataFrame(technologies,index=indexes)\n",
        "print(df)\n"
      ],
      "metadata": {
        "id": "1nmdHiL6Kj2F"
      }
    },
    {
      "cell_type": "markdown",
      "source": [
        "Example 16: Drop rows by Index Labels or Names"
      ],
      "metadata": {
        "id": "lEb3RkSDKpp1"
      }
    },
    {
      "cell_type": "code",
      "source": [
        "# Drop rows by Index Label\n",
        "df1 = df.drop(['r1','r2'])\n",
        "print(fd1)"
      ],
      "metadata": {
        "id": "9VDftZNHKqvL"
      },
      "execution_count": null,
      "outputs": []
    },
    {
      "cell_type": "markdown",
      "source": [
        "Alternatively, you can also write the same statement by using the field name 'index'."
      ],
      "metadata": {
        "id": "zwA0AtKpKswO"
      }
    },
    {
      "cell_type": "code",
      "source": [
        "df1 = df.drop(index=['r1','r2'])\n",
        "print(df1)"
      ],
      "metadata": {
        "id": "oOQSWYTlKuBU"
      },
      "execution_count": null,
      "outputs": []
    },
    {
      "cell_type": "markdown",
      "source": [
        "Example 17: Drop Rows by Index Number (Row Number)"
      ],
      "metadata": {
        "id": "GphFw8-_KwMD"
      }
    },
    {
      "cell_type": "code",
      "source": [
        "# Delete Rows 1 and 3 by Index numbers\n",
        "df1=df.drop(df.index[[1,3]])\n",
        "print(df1)"
      ],
      "metadata": {
        "id": "oZaepKPAKyRN"
      },
      "execution_count": null,
      "outputs": []
    },
    {
      "cell_type": "code",
      "source": [
        "# Removes First Row\n",
        "df=df.drop(df.index[0])"
      ],
      "metadata": {
        "id": "7tM9gaE1KzzK"
      },
      "execution_count": null,
      "outputs": []
    },
    {
      "cell_type": "code",
      "source": [
        "# Removes Last Row\n",
        "df=df.drop(df.index[-1])"
      ],
      "metadata": {
        "id": "4VDlGrg_K06y"
      },
      "execution_count": null,
      "outputs": []
    },
    {
      "cell_type": "code",
      "source": [
        "# Delete Rows by Index Range\n",
        "df1=df.drop(df.index[2:])\n",
        "print(df1)"
      ],
      "metadata": {
        "id": "JksCN6O_K2uv"
      },
      "execution_count": null,
      "outputs": []
    },
    {
      "cell_type": "markdown",
      "source": [
        "Example 18: Delete Rows with Default Indexes"
      ],
      "metadata": {
        "id": "3oFs_5f_K3f2"
      }
    },
    {
      "cell_type": "code",
      "source": [
        "# Remove rows when you have a default index.\n",
        "df = pd.DataFrame(technologies)\n",
        "df1 = df.drop(0)\n",
        "df3 = df.drop([0, 3])\n",
        "df4 = df.drop(range(0,2))"
      ],
      "metadata": {
        "id": "a3dHWnXOK41_"
      },
      "execution_count": null,
      "outputs": []
    },
    {
      "cell_type": "markdown",
      "source": [
        "Example 19: Drop Rows by Checking Conditions"
      ],
      "metadata": {
        "id": "dblJSKPwK8mo"
      }
    },
    {
      "cell_type": "code",
      "source": [
        "# Using drop() to delete rows based on column value\n",
        "df.drop(df[df['Fee'] >= 24000].index, inplace = True)\n",
        "# Remove rows\n",
        "df2 = df[df.Fee >= 24000]\n",
        "# Using loc\n",
        "df2 = df.loc[df[\"Fee\"] >= 24000]"
      ],
      "metadata": {
        "id": "x1xbqBaiK85G"
      },
      "execution_count": null,
      "outputs": []
    },
    {
      "cell_type": "markdown",
      "source": [
        "Task 11: delete all rows with Fee >= 2200 and Discount == 2300. Save the result in a file named task.csv\n",
        "\n",
        "Task 12: Write a code to delete all rows with a Non/NaN value.\n",
        "\n",
        "Task 13: Write a code to delete all rows having courses equal to Spark or Hadoop."
      ],
      "metadata": {
        "id": "YTgyuWqMK-hM"
      }
    },
    {
      "cell_type": "code",
      "source": [],
      "metadata": {
        "id": "aoxMHOa0LCNr"
      },
      "execution_count": null,
      "outputs": []
    },
    {
      "cell_type": "markdown",
      "source": [
        "# Combining DataFrames in Pandas"
      ],
      "metadata": {
        "id": "6h5YuP8rLD32"
      }
    },
    {
      "cell_type": "markdown",
      "source": [
        "## DataFrame Concatenation"
      ],
      "metadata": {
        "id": "Mk0eajm-LJ-m"
      }
    },
    {
      "cell_type": "markdown",
      "source": [
        "Example 14: Concatenate two DataFrames vertically"
      ],
      "metadata": {
        "id": "FIIou9xbLLpM"
      }
    },
    {
      "cell_type": "code",
      "source": [
        "import pandas as pd\n",
        "# Create two sample DataFrames\n",
        "df1 = pd.DataFrame({'A': ['A0', 'A1', 'A2', 'A3'],\n",
        "                    'B': ['B0', 'B1', 'B2', 'B3'],\n",
        "                    'C': ['C0', 'C1', 'C2', 'C3'],\n",
        "                    'D': ['D0', 'D1', 'D2', 'D3']})\n",
        "df2 = pd.DataFrame({'A': ['A4', 'A5', 'A6', 'A7'],\n",
        "                    'B': ['B4', 'B5', 'B6', 'B7'],\n",
        "                    'C': ['C4', 'C5', 'C6', 'C7'],\n",
        "                    'D': ['D4', 'D5', 'D6', 'D7']})\n",
        "# Concatenate the DataFrames vertically\n",
        "result = pd.concat([df1, df2])\n",
        "print(result)"
      ],
      "metadata": {
        "id": "0DqM7D0dLM2S"
      },
      "execution_count": null,
      "outputs": []
    },
    {
      "cell_type": "markdown",
      "source": [
        "Task 14: Perform the concatenation in the above example along columns."
      ],
      "metadata": {
        "id": "_JQleAW1LSsx"
      }
    },
    {
      "cell_type": "code",
      "source": [],
      "metadata": {
        "id": "g4YsBelsLT5l"
      },
      "execution_count": null,
      "outputs": []
    },
    {
      "cell_type": "markdown",
      "source": [
        "## DataFrame Merging"
      ],
      "metadata": {
        "id": "KzAwaw67LVq3"
      }
    },
    {
      "cell_type": "markdown",
      "source": [
        "Task 15: Run the samples above and figure out what returns.\n",
        "\n",
        "Task 16: Let’s say that we want to merge frames df1 and df2 using a left outer join, Select all the columns from df1 but only column colE from df2."
      ],
      "metadata": {
        "id": "50n-K8MaLaJh"
      }
    },
    {
      "cell_type": "code",
      "source": [],
      "metadata": {
        "id": "4g3F3qh-LdDx"
      },
      "execution_count": null,
      "outputs": []
    },
    {
      "cell_type": "markdown",
      "source": [
        "# Descriptive Statistics"
      ],
      "metadata": {
        "id": "vns2X1m_Lftt"
      }
    },
    {
      "cell_type": "markdown",
      "source": [
        "## Basic Descriptives"
      ],
      "metadata": {
        "id": "2EAWReu_LiuJ"
      }
    },
    {
      "cell_type": "markdown",
      "source": [
        "Create the following dataframe which will be used in the following examples"
      ],
      "metadata": {
        "id": "400nXIb4Lpms"
      }
    },
    {
      "cell_type": "code",
      "source": [
        "import pandas as pd\n",
        "sales_data = pd.DataFrame({\n",
        "\"name\":[\"Ahmad\",\"Ali\",\"Nour\",\"Mohammad\",\"Hamzah\",\"Omar\",\"Rami\",\"Hani\",\n",
        "\"Salem\",\"Anas\",\"Bilal\"]\n",
        ",\"region\":[\"East\",\"North\",\"East\",\"South\",\"West\",\"West\",\"South\",\"West\",\n",
        "\"West\",\"East\",\"South\"]\n",
        ",\"sales\":[50000,52000,90000,34000,42000,72000,49000,55000,67000,65000,\n",
        "67000]\n",
        ",\"expenses\":[42000,43000,50000,44000,38000,39000,42000,60000,39000,440\n",
        "00,45000]})\n",
        "print(sales_data)\n"
      ],
      "metadata": {
        "id": "tLfOXegqLq2e"
      },
      "execution_count": null,
      "outputs": []
    },
    {
      "cell_type": "markdown",
      "source": [
        "Example 21: Getting the descriptive statistics for the entire DataFrame use:"
      ],
      "metadata": {
        "id": "nhDvStQqLqGD"
      }
    },
    {
      "cell_type": "code",
      "source": [
        "stats = sales_data.describe(include='all')\n",
        "print(stats)"
      ],
      "metadata": {
        "id": "V_VhiFD1LuN7"
      },
      "execution_count": null,
      "outputs": []
    },
    {
      "cell_type": "markdown",
      "source": [
        "Example 22: To get the descriptive statistics for a specific column from the DataFrame,\n",
        "use:\n"
      ],
      "metadata": {
        "id": "Ea9AdttZLvTG"
      }
    },
    {
      "cell_type": "code",
      "source": [
        "sales_data['dataframe_column'].describe()"
      ],
      "metadata": {
        "id": "cmwLolySLwsf"
      },
      "execution_count": null,
      "outputs": []
    },
    {
      "cell_type": "markdown",
      "source": [
        "Example 23: Breaking Down the Descriptive Statistics as Desired:"
      ],
      "metadata": {
        "id": "LiR3siO8Ly4P"
      }
    },
    {
      "cell_type": "code",
      "source": [
        "sales_data['dataframe_column'].count()\n",
        "sales_data['dataframe_column'].quantile(q=0.75)"
      ],
      "metadata": {
        "id": "fbEVt4ViLz_L"
      },
      "execution_count": null,
      "outputs": []
    },
    {
      "cell_type": "markdown",
      "source": [
        "## Other Descriptives"
      ],
      "metadata": {
        "id": "ulkUnkKIL2rz"
      }
    },
    {
      "cell_type": "markdown",
      "source": [
        "Example 24: Return the skew of each column:"
      ],
      "metadata": {
        "id": "DGT-VoYxL4oj"
      }
    },
    {
      "cell_type": "code",
      "source": [
        "import pandas as pd\n",
        "data = [[10, 18, 11], [13, 15, 8], [9, 20, 3]]\n",
        "df = pd.DataFrame(data)\n",
        "print(df.skew())"
      ],
      "metadata": {
        "id": "9n1xuLnuL5y_"
      },
      "execution_count": null,
      "outputs": []
    },
    {
      "cell_type": "markdown",
      "source": [
        "Example 25: Using Panda Kurtosis method,"
      ],
      "metadata": {
        "id": "M9cx2rrSL8NQ"
      }
    },
    {
      "cell_type": "code",
      "source": [
        "import pandas as pd\n",
        "dataMatrix = [(65,75,74,73,95,76,62,100),\n",
        "              (101,102,103,107,157,160,191,192)];\n",
        "dataFrame = pd.DataFrame(data=dataMatrix);\n",
        "kurt = dataFrame.kurt(axis=1);\n",
        "print(\"Data:\");\n",
        "print(dataFrame);\n",
        "print(\"Kurtosis:\");\n",
        "print(kurt);"
      ],
      "metadata": {
        "id": "BzBom24oL966"
      },
      "execution_count": null,
      "outputs": []
    }
  ]
}